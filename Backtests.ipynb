{
 "metadata": {
  "language_info": {
   "codemirror_mode": {
    "name": "ipython",
    "version": 3
   },
   "file_extension": ".py",
   "mimetype": "text/x-python",
   "name": "python",
   "nbconvert_exporter": "python",
   "pygments_lexer": "ipython3",
   "version": 3
  },
  "orig_nbformat": 2,
  "kernelspec": {
   "name": "python_defaultSpec_1595391825357",
   "display_name": "Python 3.8.4 64-bit"
  }
 },
 "nbformat": 4,
 "nbformat_minor": 2,
 "cells": [
  {
   "cell_type": "markdown",
   "metadata": {},
   "source": [
    "# Projecting COVID-19 Cases With One Step/Multi-Step ARIMA and VAR"
   ]
  },
  {
   "cell_type": "markdown",
   "metadata": {},
   "source": [
    "### Import Python Modules"
   ]
  },
  {
   "cell_type": "code",
   "execution_count": 1,
   "metadata": {},
   "outputs": [],
   "source": [
    "import pandas as pd \n",
    "import numpy as np\n",
    "import matplotlib.pyplot as plt\n",
    "from HackathonPackage import CovidModels\n",
    "import datetime\n",
    "import pickle\n",
    "import json\n",
    "import math\n",
    "\n",
    "pd.set_option('display.max_columns', None) #setting to view all columns in the output\n"
   ]
  },
  {
   "cell_type": "markdown",
   "metadata": {},
   "source": [
    "### Read dataset and display fields "
   ]
  },
  {
   "cell_type": "code",
   "execution_count": 2,
   "metadata": {
    "tags": []
   },
   "outputs": [
    {
     "output_type": "stream",
     "name": "stdout",
     "text": "iso_code continent      country state county  fips       date  total_cases  \\\n0      AFG      Asia  Afghanistan   N\\A    N\\A     0 2019-12-31          0.0   \n1      AFG      Asia  Afghanistan   N\\A    N\\A     0 2020-01-01          0.0   \n2      AFG      Asia  Afghanistan   N\\A    N\\A     0 2020-01-02          0.0   \n3      AFG      Asia  Afghanistan   N\\A    N\\A     0 2020-01-03          0.0   \n4      AFG      Asia  Afghanistan   N\\A    N\\A     0 2020-01-04          0.0   \n\n   new_cases  total_deaths  new_deaths  total_tests  new_tests tests_units  \\\n0        0.0           0.0         0.0          NaN        NaN         NaN   \n1        0.0           0.0         0.0          NaN        NaN         NaN   \n2        0.0           0.0         0.0          NaN        NaN         NaN   \n3        0.0           0.0         0.0          NaN        NaN         NaN   \n4        0.0           0.0         0.0          NaN        NaN         NaN   \n\n   stringency_index  population  population_density  median_age  \\\n0               NaN  38928341.0              54.422        18.6   \n1               0.0  38928341.0              54.422        18.6   \n2               0.0  38928341.0              54.422        18.6   \n3               0.0  38928341.0              54.422        18.6   \n4               0.0  38928341.0              54.422        18.6   \n\n   aged_65_older  aged_70_older  gdp_per_capita  extreme_poverty  \\\n0          2.581          1.337        1803.987              NaN   \n1          2.581          1.337        1803.987              NaN   \n2          2.581          1.337        1803.987              NaN   \n3          2.581          1.337        1803.987              NaN   \n4          2.581          1.337        1803.987              NaN   \n\n   cvd_death_rate  diabetes_prevalence  female_smokers  male_smokers  \\\n0             NaN                 9.59             NaN           NaN   \n1             NaN                 9.59             NaN           NaN   \n2             NaN                 9.59             NaN           NaN   \n3             NaN                 9.59             NaN           NaN   \n4             NaN                 9.59             NaN           NaN   \n\n   handwashing_facilities  hospital_beds_per_thousand  life_expectancy source  \n0                  37.746                         0.5            64.83    WHO  \n1                  37.746                         0.5            64.83    WHO  \n2                  37.746                         0.5            64.83    WHO  \n3                  37.746                         0.5            64.83    WHO  \n4                  37.746                         0.5            64.83    WHO  \n"
    }
   ],
   "source": [
    "df = pd.read_csv(\"C:\\\\Users\\\\dylan.levine\\\\Development\\\\Covid Hackathon\\\\CovidDataset.csv\", engine='python', encoding = \"utf-8-sig\", parse_dates=['date'])\n",
    "print(df.head())\n",
    "\n"
   ]
  },
  {
   "cell_type": "markdown",
   "metadata": {},
   "source": [
    "### Generate backtests for Countries"
   ]
  },
  {
   "cell_type": "code",
   "execution_count": 3,
   "metadata": {
    "tags": [
     "outputPrepend"
    ]
   },
   "outputs": [
    {
     "output_type": "stream",
     "name": "stdout",
     "text": "ing\nRunning SARIMAX on Ethiopia\nRunning SARIMAX exog onEthiopia\nRunning VAR on Ethiopia\ntotal_cases\nMovingAvgStringency\n148 remaining\nRunning SARIMAX on Faeroe Islands\nRunning SARIMAX exog onFaeroe Islands\nRunning VAR on Faeroe Islands\nAll stringency values are null, exiting model\nVAR error\n147 remaining\nRunning SARIMAX on Falkland Islands\nRunning SARIMAX exog onFalkland Islands\nRunning VAR on Falkland Islands\nAll stringency values are null, exiting model\nVAR error\n146 remaining\nRunning SARIMAX on Fiji\nRunning SARIMAX exog onFiji\nRunning VAR on Fiji\ntotal_cases\nMovingAvgStringency\n145 remaining\nRunning SARIMAX on Finland\nRunning SARIMAX exog onFinland\nRunning VAR on Finland\ntotal_cases\nMovingAvgStringency\n144 remaining\nRunning SARIMAX on France\nRunning SARIMAX exog onFrance\nRunning VAR on France\ntotal_cases\nMovingAvgStringency\n143 remaining\nRunning SARIMAX on French Polynesia\nRunning SARIMAX exog onFrench Polynesia\nRunning VAR on French Polynesia\nAll stringency values are null, exiting model\nVAR error\n142 remaining\nRunning SARIMAX on Gabon\nRunning SARIMAX exog onGabon\nRunning VAR on Gabon\nVAR error\n141 remaining\nRunning SARIMAX on Gambia\nRunning SARIMAX exog onGambia\nRunning VAR on Gambia\nVAR error\n140 remaining\nRunning SARIMAX on Georgia\nRunning SARIMAX exog onGeorgia\nRunning VAR on Georgia\ntotal_cases\nMovingAvgStringency\n139 remaining\nRunning SARIMAX on Germany\nRunning SARIMAX exog onGermany\nRunning VAR on Germany\ntotal_cases\nMovingAvgStringency\n138 remaining\nRunning SARIMAX on Ghana\nRunning SARIMAX exog onGhana\nRunning VAR on Ghana\ntotal_cases\nMovingAvgStringency\n137 remaining\nRunning SARIMAX on Gibraltar\nRunning SARIMAX exog onGibraltar\nRunning VAR on Gibraltar\nAll stringency values are null, exiting model\nVAR error\n136 remaining\nRunning SARIMAX on Greece\nRunning SARIMAX exog onGreece\nRunning VAR on Greece\ntotal_cases\nMovingAvgStringency\n135 remaining\nRunning SARIMAX on Greenland\nRunning SARIMAX exog onGreenland\nRunning VAR on Greenland\ntotal_cases\nMovingAvgStringency\n134 remaining\nRunning SARIMAX on Grenada\nRunning SARIMAX exog onGrenada\nRunning VAR on Grenada\nAll stringency values are null, exiting model\nVAR error\n133 remaining\nRunning SARIMAX on Guam\nRunning SARIMAX exog onGuam\nRunning VAR on Guam\ntotal_cases\nMovingAvgStringency\n132 remaining\nRunning SARIMAX on Guatemala\nRunning SARIMAX exog onGuatemala\nRunning VAR on Guatemala\ntotal_cases\nMovingAvgStringency\n131 remaining\nRunning SARIMAX on Guernsey\nRunning SARIMAX exog onGuernsey\nRunning VAR on Guernsey\nAll stringency values are null, exiting model\nVAR error\n130 remaining\nRunning SARIMAX on Guinea\nRunning SARIMAX exog onGuinea\nRunning VAR on Guinea\ntotal_cases\nMovingAvgStringency\n129 remaining\nRunning SARIMAX on Guinea-Bissau\nRunning SARIMAX exog onGuinea-Bissau\nRunning VAR on Guinea-Bissau\nAll stringency values are null, exiting model\nVAR error\n128 remaining\nRunning SARIMAX on Guyana\nRunning SARIMAX exog onGuyana\nRunning VAR on Guyana\nVAR error\n127 remaining\nRunning SARIMAX on Haiti\nRunning SARIMAX exog onHaiti\nRunning VAR on Haiti\ntotal_cases\nMovingAvgStringency\n126 remaining\nRunning SARIMAX on Honduras\nRunning SARIMAX exog onHonduras\nRunning VAR on Honduras\ntotal_cases\nMovingAvgStringency\n125 remaining\nRunning SARIMAX on Hong Kong\nRunning SARIMAX exog onHong Kong\nRunning VAR on Hong Kong\nVAR error\n124 remaining\nRunning SARIMAX on Hungary\nRunning SARIMAX exog onHungary\nRunning VAR on Hungary\ntotal_cases\nMovingAvgStringency\n123 remaining\nRunning SARIMAX on Iceland\nRunning SARIMAX exog onIceland\nRunning VAR on Iceland\ntotal_cases\nMovingAvgStringency\n122 remaining\nRunning SARIMAX on India\nRunning SARIMAX exog onIndia\nRunning VAR on India\ntotal_cases\nMovingAvgStringency\n121 remaining\nRunning SARIMAX on Indonesia\nRunning SARIMAX exog onIndonesia\nRunning VAR on Indonesia\ntotal_cases\nMovingAvgStringency\n120 remaining\nRunning SARIMAX on Iran\nRunning SARIMAX exog onIran\nRunning VAR on Iran\ntotal_cases\nMovingAvgStringency\n119 remaining\nRunning SARIMAX on Iraq\nRunning SARIMAX exog onIraq\nRunning VAR on Iraq\ntotal_cases\nMovingAvgStringency\n118 remaining\nRunning SARIMAX on Ireland\nRunning SARIMAX exog onIreland\nRunning VAR on Ireland\ntotal_cases\nMovingAvgStringency\n117 remaining\nRunning SARIMAX on Isle of Man\nRunning SARIMAX exog onIsle of Man\nRunning VAR on Isle of Man\nAll stringency values are null, exiting model\nVAR error\n116 remaining\nRunning SARIMAX on Israel\nRunning SARIMAX exog onIsrael\nRunning VAR on Israel\ntotal_cases\nMovingAvgStringency\n115 remaining\nRunning SARIMAX on Italy\nRunning SARIMAX exog onItaly\nRunning VAR on Italy\ntotal_cases\nMovingAvgStringency\n114 remaining\nRunning SARIMAX on Jamaica\nRunning SARIMAX exog onJamaica\nRunning VAR on Jamaica\ntotal_cases\nMovingAvgStringency\n113 remaining\nRunning SARIMAX on Japan\nRunning SARIMAX exog onJapan\nRunning VAR on Japan\ntotal_cases\nMovingAvgStringency\n112 remaining\nRunning SARIMAX on Jersey\nRunning SARIMAX exog onJersey\nRunning VAR on Jersey\nAll stringency values are null, exiting model\nVAR error\n111 remaining\nRunning SARIMAX on Jordan\nRunning SARIMAX exog onJordan\nRunning VAR on Jordan\ntotal_cases\nMovingAvgStringency\n110 remaining\nRunning SARIMAX on Kazakhstan\nRunning SARIMAX exog onKazakhstan\nRunning VAR on Kazakhstan\ntotal_cases\nMovingAvgStringency\n109 remaining\nRunning SARIMAX on Kenya\nRunning SARIMAX exog onKenya\nRunning VAR on Kenya\ntotal_cases\nMovingAvgStringency\n108 remaining\nRunning SARIMAX on Kosovo\nRunning SARIMAX exog onKosovo\nRunning VAR on Kosovo\ntotal_cases\nMovingAvgStringency\n107 remaining\nRunning SARIMAX on Kuwait\nRunning SARIMAX exog onKuwait\nRunning VAR on Kuwait\ntotal_cases\nMovingAvgStringency\n106 remaining\nRunning SARIMAX on Kyrgyzstan\nRunning SARIMAX exog onKyrgyzstan\nRunning VAR on Kyrgyzstan\ntotal_cases\nMovingAvgStringency\n105 remaining\nRunning SARIMAX on Laos\nRunning SARIMAX exog onLaos\nRunning VAR on Laos\ntotal_cases\nMovingAvgStringency\n104 remaining\nRunning SARIMAX on Latvia\nRunning SARIMAX exog onLatvia\nRunning VAR on Latvia\ntotal_cases\nMovingAvgStringency\n103 remaining\nRunning SARIMAX on Lebanon\nRunning SARIMAX exog onLebanon\nRunning VAR on Lebanon\ntotal_cases\nMovingAvgStringency\n102 remaining\nRunning SARIMAX on Lesotho\nRunning SARIMAX exog onLesotho\nRunning VAR on Lesotho\nVAR error\n101 remaining\nRunning SARIMAX on Liberia\nRunning SARIMAX exog onLiberia\nRunning VAR on Liberia\ntotal_cases\nMovingAvgStringency\n100 remaining\nRunning SARIMAX on Libya\nRunning SARIMAX exog onLibya\nRunning VAR on Libya\nVAR error\n99 remaining\nRunning SARIMAX on Liechtenstein\nRunning SARIMAX exog onLiechtenstein\nRunning VAR on Liechtenstein\nAll stringency values are null, exiting model\nVAR error\n98 remaining\nRunning SARIMAX on Lithuania\nRunning SARIMAX exog onLithuania\nRunning VAR on Lithuania\ntotal_cases\nMovingAvgStringency\n97 remaining\nRunning SARIMAX on Luxembourg\nRunning SARIMAX exog onLuxembourg\nRunning VAR on Luxembourg\ntotal_cases\nMovingAvgStringency\n96 remaining\nRunning SARIMAX on Macedonia\nRunning SARIMAX exog onMacedonia\nRunning VAR on Macedonia\nAll stringency values are null, exiting model\nVAR error\n95 remaining\nRunning SARIMAX on Madagascar\nRunning SARIMAX exog onMadagascar\nRunning VAR on Madagascar\ntotal_cases\nMovingAvgStringency\n94 remaining\nRunning SARIMAX on Malawi\nRunning SARIMAX exog onMalawi\nRunning VAR on Malawi\ntotal_cases\nMovingAvgStringency\n93 remaining\nRunning SARIMAX on Malaysia\nRunning SARIMAX exog onMalaysia\nRunning VAR on Malaysia\ntotal_cases\nMovingAvgStringency\n92 remaining\nRunning SARIMAX on Maldives\nRunning SARIMAX exog onMaldives\nRunning VAR on Maldives\nAll stringency values are null, exiting model\nVAR error\n91 remaining\nRunning SARIMAX on Mali\nRunning SARIMAX exog onMali\nRunning VAR on Mali\nVAR error\n90 remaining\nRunning SARIMAX on Malta\nRunning SARIMAX exog onMalta\nRunning VAR on Malta\nAll stringency values are null, exiting model\nVAR error\n89 remaining\nRunning SARIMAX on Mauritania\nRunning SARIMAX exog onMauritania\nRunning VAR on Mauritania\ntotal_cases\nMovingAvgStringency\n88 remaining\nRunning SARIMAX on Mauritius\nRunning SARIMAX exog onMauritius\nRunning VAR on Mauritius\ntotal_cases\nMovingAvgStringency\n87 remaining\nRunning SARIMAX on Mexico\nRunning SARIMAX exog onMexico\nRunning VAR on Mexico\ntotal_cases\nMovingAvgStringency\n86 remaining\nRunning SARIMAX on Moldova\nRunning SARIMAX exog onMoldova\nRunning VAR on Moldova\ntotal_cases\nMovingAvgStringency\n85 remaining\nRunning SARIMAX on Monaco\nRunning SARIMAX exog onMonaco\nRunning VAR on Monaco\nAll stringency values are null, exiting model\nVAR error\n84 remaining\nRunning SARIMAX on Mongolia\nRunning SARIMAX exog onMongolia\nRunning VAR on Mongolia\nVAR error\n83 remaining\nRunning SARIMAX on Montenegro\nRunning SARIMAX exog onMontenegro\nRunning VAR on Montenegro\nAll stringency values are null, exiting model\nVAR error\n82 remaining\nRunning SARIMAX on Montserrat\nRunning SARIMAX exog onMontserrat\nRunning VAR on Montserrat\nAll stringency values are null, exiting model\nVAR error\n81 remaining\nRunning SARIMAX on Morocco\nRunning SARIMAX exog onMorocco\nRunning VAR on Morocco\ntotal_cases\nMovingAvgStringency\n80 remaining\nRunning SARIMAX on Mozambique\nRunning SARIMAX exog onMozambique\nRunning VAR on Mozambique\ntotal_cases\nMovingAvgStringency\n79 remaining\nRunning SARIMAX on Myanmar\nRunning SARIMAX exog onMyanmar\nRunning VAR on Myanmar\nVAR error\n78 remaining\nRunning SARIMAX on Namibia\nRunning SARIMAX exog onNamibia\nRunning VAR on Namibia\ntotal_cases\nMovingAvgStringency\n77 remaining\nRunning SARIMAX on Nepal\nRunning SARIMAX exog onNepal\nRunning VAR on Nepal\ntotal_cases\nMovingAvgStringency\n76 remaining\nRunning SARIMAX on Netherlands\nRunning SARIMAX exog onNetherlands\nRunning VAR on Netherlands\ntotal_cases\nMovingAvgStringency\n75 remaining\nRunning SARIMAX on New Caledonia\nRunning SARIMAX exog onNew Caledonia\nRunning VAR on New Caledonia\nAll stringency values are null, exiting model\nVAR error\n74 remaining\nRunning SARIMAX on New Zealand\nRunning SARIMAX exog onNew Zealand\nRunning VAR on New Zealand\ntotal_cases\nMovingAvgStringency\n73 remaining\nRunning SARIMAX on Nicaragua\nRunning SARIMAX exog onNicaragua\nRunning VAR on Nicaragua\nVAR error\n72 remaining\nRunning SARIMAX on Niger\nRunning SARIMAX exog onNiger\nRunning VAR on Niger\ntotal_cases\nMovingAvgStringency\n71 remaining\nRunning SARIMAX on Nigeria\nRunning SARIMAX exog onNigeria\nRunning VAR on Nigeria\ntotal_cases\nMovingAvgStringency\n70 remaining\nRunning SARIMAX on Northern Mariana Islands\nRunning SARIMAX exog onNorthern Mariana Islands\nRunning VAR on Northern Mariana Islands\nAll stringency values are null, exiting model\nVAR error\n69 remaining\nRunning SARIMAX on Norway\nRunning SARIMAX exog onNorway\nRunning VAR on Norway\ntotal_cases\nMovingAvgStringency\n68 remaining\nRunning SARIMAX on Oman\nRunning SARIMAX exog onOman\nRunning VAR on Oman\ntotal_cases\nMovingAvgStringency\n67 remaining\nRunning SARIMAX on Pakistan\nRunning SARIMAX exog onPakistan\nRunning VAR on Pakistan\ntotal_cases\nMovingAvgStringency\n66 remaining\nRunning SARIMAX on Palestine\nRunning SARIMAX exog onPalestine\nRunning VAR on Palestine\ntotal_cases\nMovingAvgStringency\n65 remaining\nRunning SARIMAX on Panama\nRunning SARIMAX exog onPanama\nRunning VAR on Panama\ntotal_cases\nMovingAvgStringency\n64 remaining\nRunning SARIMAX on Papua New Guinea\nRunning SARIMAX exog onPapua New Guinea\nRunning VAR on Papua New Guinea\ntotal_cases\nMovingAvgStringency\n63 remaining\nRunning SARIMAX on Paraguay\nRunning SARIMAX exog onParaguay\nRunning VAR on Paraguay\ntotal_cases\nMovingAvgStringency\n62 remaining\nRunning SARIMAX on Peru\nRunning SARIMAX exog onPeru\nRunning VAR on Peru\ntotal_cases\nMovingAvgStringency\n61 remaining\nRunning SARIMAX on Philippines\nRunning SARIMAX exog onPhilippines\nRunning VAR on Philippines\ntotal_cases\nMovingAvgStringency\n60 remaining\nRunning SARIMAX on Poland\nRunning SARIMAX exog onPoland\nRunning VAR on Poland\ntotal_cases\nMovingAvgStringency\n59 remaining\nRunning SARIMAX on Portugal\nRunning SARIMAX exog onPortugal\nRunning VAR on Portugal\ntotal_cases\nMovingAvgStringency\n58 remaining\nRunning SARIMAX on Puerto Rico\nRunning SARIMAX exog onPuerto Rico\nRunning VAR on Puerto Rico\nVAR error\n57 remaining\nRunning SARIMAX on Qatar\nRunning SARIMAX exog onQatar\nRunning VAR on Qatar\ntotal_cases\nMovingAvgStringency\n56 remaining\nRunning SARIMAX on Romania\nRunning SARIMAX exog onRomania\nRunning VAR on Romania\ntotal_cases\nMovingAvgStringency\n55 remaining\nRunning SARIMAX on Russia\nRunning SARIMAX exog onRussia\nRunning VAR on Russia\ntotal_cases\nMovingAvgStringency\n54 remaining\nRunning SARIMAX on Rwanda\nRunning SARIMAX exog onRwanda\nRunning VAR on Rwanda\ntotal_cases\nMovingAvgStringency\n53 remaining\nRunning SARIMAX on Saint Kitts and Nevis\nRunning SARIMAX exog onSaint Kitts and Nevis\nRunning VAR on Saint Kitts and Nevis\nAll stringency values are null, exiting model\nVAR error\n52 remaining\nRunning SARIMAX on Saint Lucia\nRunning SARIMAX exog onSaint Lucia\nRunning VAR on Saint Lucia\nAll stringency values are null, exiting model\nVAR error\n51 remaining\nRunning SARIMAX on Saint Vincent and the Grenadines\nRunning SARIMAX exog onSaint Vincent and the Grenadines\nRunning VAR on Saint Vincent and the Grenadines\nAll stringency values are null, exiting model\nVAR error\n50 remaining\nRunning SARIMAX on San Marino\nRunning SARIMAX exog onSan Marino\nRunning VAR on San Marino\ntotal_cases\nMovingAvgStringency\n49 remaining\nRunning SARIMAX on Sao Tome and Principe\nRunning SARIMAX exog onSao Tome and Principe\nRunning VAR on Sao Tome and Principe\nAll stringency values are null, exiting model\nVAR error\n48 remaining\nRunning SARIMAX on Saudi Arabia\nRunning SARIMAX exog onSaudi Arabia\nRunning VAR on Saudi Arabia\ntotal_cases\nMovingAvgStringency\n47 remaining\nRunning SARIMAX on Senegal\nRunning SARIMAX exog onSenegal\nRunning VAR on Senegal\ntotal_cases\nMovingAvgStringency\n46 remaining\nRunning SARIMAX on Serbia\nRunning SARIMAX exog onSerbia\nRunning VAR on Serbia\ntotal_cases\nMovingAvgStringency\n45 remaining\nRunning SARIMAX on Seychelles\nRunning SARIMAX exog onSeychelles\nRunning VAR on Seychelles\ntotal_cases\nMovingAvgStringency\n44 remaining\nRunning SARIMAX on Sierra Leone\nRunning SARIMAX exog onSierra Leone\nRunning VAR on Sierra Leone\nVAR error\n43 remaining\nRunning SARIMAX on Singapore\nRunning SARIMAX exog onSingapore\nRunning VAR on Singapore\ntotal_cases\nMovingAvgStringency\n42 remaining\nRunning SARIMAX on Sint Maarten (Dutch part)\nRunning SARIMAX exog onSint Maarten (Dutch part)\nRunning VAR on Sint Maarten (Dutch part)\nAll stringency values are null, exiting model\nVAR error\n41 remaining\nRunning SARIMAX on Slovakia\nRunning SARIMAX exog onSlovakia\nRunning VAR on Slovakia\ntotal_cases\nMovingAvgStringency\n40 remaining\nRunning SARIMAX on Slovenia\nRunning SARIMAX exog onSlovenia\nRunning VAR on Slovenia\ntotal_cases\nMovingAvgStringency\n39 remaining\nRunning SARIMAX on Somalia\nRunning SARIMAX exog onSomalia\nRunning VAR on Somalia\ntotal_cases\nMovingAvgStringency\n38 remaining\nRunning SARIMAX on South Africa\nRunning SARIMAX exog onSouth Africa\nRunning VAR on South Africa\ntotal_cases\nMovingAvgStringency\n37 remaining\nRunning SARIMAX on South Korea\nRunning SARIMAX exog onSouth Korea\nRunning VAR on South Korea\ntotal_cases\nMovingAvgStringency\n36 remaining\nRunning SARIMAX on South Sudan\nRunning SARIMAX exog onSouth Sudan\nRunning VAR on South Sudan\nVAR error\n35 remaining\nRunning SARIMAX on Spain\nRunning SARIMAX exog onSpain\nRunning VAR on Spain\ntotal_cases\nMovingAvgStringency\n34 remaining\nRunning SARIMAX on Sri Lanka\nRunning SARIMAX exog onSri Lanka\nRunning VAR on Sri Lanka\ntotal_cases\nMovingAvgStringency\n33 remaining\nRunning SARIMAX on Sudan\nRunning SARIMAX exog onSudan\nRunning VAR on Sudan\ntotal_cases\nMovingAvgStringency\n32 remaining\nRunning SARIMAX on Suriname\nRunning SARIMAX exog onSuriname\nRunning VAR on Suriname\ntotal_cases\nMovingAvgStringency\n31 remaining\nRunning SARIMAX on Swaziland\nRunning SARIMAX exog onSwaziland\nRunning VAR on Swaziland\ntotal_cases\nMovingAvgStringency\n30 remaining\nRunning SARIMAX on Sweden\nRunning SARIMAX exog onSweden\nRunning VAR on Sweden\ntotal_cases\nMovingAvgStringency\n29 remaining\nRunning SARIMAX on Switzerland\nRunning SARIMAX exog onSwitzerland\nRunning VAR on Switzerland\ntotal_cases\nMovingAvgStringency\n28 remaining\nRunning SARIMAX on Syria\nRunning SARIMAX exog onSyria\nRunning VAR on Syria\ntotal_cases\nMovingAvgStringency\n27 remaining\nRunning SARIMAX on Taiwan\nRunning SARIMAX exog onTaiwan\nRunning VAR on Taiwan\ntotal_cases\nMovingAvgStringency\n26 remaining\nRunning SARIMAX on Tajikistan\nRunning SARIMAX exog onTajikistan\nRunning VAR on Tajikistan\ntotal_cases\nMovingAvgStringency\n25 remaining\nRunning SARIMAX on Tanzania\nRunning SARIMAX exog onTanzania\nRunning VAR on Tanzania\nVAR error\n24 remaining\nRunning SARIMAX on Thailand\nRunning SARIMAX exog onThailand\nRunning VAR on Thailand\ntotal_cases\nMovingAvgStringency\n23 remaining\nRunning SARIMAX on Timor\nRunning SARIMAX exog onTimor\nRunning VAR on Timor\ntotal_cases\nMovingAvgStringency\n22 remaining\nRunning SARIMAX on Togo\nRunning SARIMAX exog onTogo\nRunning VAR on Togo\ntotal_cases\nMovingAvgStringency\n21 remaining\nRunning SARIMAX on Trinidad and Tobago\nRunning SARIMAX exog onTrinidad and Tobago\nRunning VAR on Trinidad and Tobago\ntotal_cases\nMovingAvgStringency\n20 remaining\nRunning SARIMAX on Tunisia\nRunning SARIMAX exog onTunisia\nRunning VAR on Tunisia\ntotal_cases\nMovingAvgStringency\n19 remaining\nRunning SARIMAX on Turkey\nRunning SARIMAX exog onTurkey\nRunning VAR on Turkey\ntotal_cases\nMovingAvgStringency\n18 remaining\nRunning SARIMAX on Turks and Caicos Islands\nRunning SARIMAX exog onTurks and Caicos Islands\nRunning VAR on Turks and Caicos Islands\nAll stringency values are null, exiting model\nVAR error\n17 remaining\nRunning SARIMAX on Uganda\nRunning SARIMAX exog onUganda\nRunning VAR on Uganda\nVAR error\n16 remaining\nRunning SARIMAX on Ukraine\nRunning SARIMAX exog onUkraine\nRunning VAR on Ukraine\ntotal_cases\nMovingAvgStringency\n15 remaining\nRunning SARIMAX on United Arab Emirates\nRunning SARIMAX exog onUnited Arab Emirates\nRunning VAR on United Arab Emirates\ntotal_cases\nMovingAvgStringency\n14 remaining\nRunning SARIMAX on United Kingdom\nRunning SARIMAX exog onUnited Kingdom\nRunning VAR on United Kingdom\ntotal_cases\nMovingAvgStringency\n13 remaining\nRunning SARIMAX on United States of America\nRunning SARIMAX exog onUnited States of America\nRunning VAR on United States of America\ntotal_cases\nMovingAvgStringency\n12 remaining\nRunning SARIMAX on United States Virgin Islands\nRunning SARIMAX exog onUnited States Virgin Islands\nRunning VAR on United States Virgin Islands\nAll stringency values are null, exiting model\nVAR error\n11 remaining\nRunning SARIMAX on Uruguay\nRunning SARIMAX exog onUruguay\nRunning VAR on Uruguay\ntotal_cases\nMovingAvgStringency\n10 remaining\nRunning SARIMAX on Uzbekistan\nRunning SARIMAX exog onUzbekistan\nRunning VAR on Uzbekistan\ntotal_cases\nMovingAvgStringency\n9 remaining\nRunning SARIMAX on Vatican\nRunning SARIMAX exog onVatican\nRunning VAR on Vatican\nAll stringency values are null, exiting model\nVAR error\n8 remaining\nRunning SARIMAX on Venezuela\nRunning SARIMAX exog onVenezuela\nRunning VAR on Venezuela\ntotal_cases\nMovingAvgStringency\n7 remaining\nRunning SARIMAX on Vietnam\nRunning SARIMAX exog onVietnam\nRunning VAR on Vietnam\ntotal_cases\nMovingAvgStringency\n6 remaining\nRunning SARIMAX on Western Sahara\nRunning SARIMAX exog onWestern Sahara\nRunning VAR on Western Sahara\nAll stringency values are null, exiting model\nVAR error\n5 remaining\nRunning SARIMAX on Yemen\nRunning SARIMAX exog onYemen\nRunning VAR on Yemen\ntotal_cases\nMovingAvgStringency\n4 remaining\nRunning SARIMAX on Zambia\nRunning SARIMAX exog onZambia\nRunning VAR on Zambia\nVAR error\n3 remaining\nRunning SARIMAX on Zimbabwe\nRunning SARIMAX exog onZimbabwe\nRunning VAR on Zimbabwe\nVAR error\n2 remaining\nRunning SARIMAX on World\nRunning SARIMAX exog onWorld\nRunning VAR on World\nAll stringency values are null, exiting model\nVAR error\n1 remaining\nbacktest error\nRunning SARIMAX on International\nRunning SARIMAX exog onInternational\nRunning VAR on International\nAll stringency values are null, exiting model\nVAR error\n0 remaining\n"
    },
    {
     "output_type": "execute_result",
     "data": {
      "text/plain": "2  2020-07-03  Turks and Caicos Islands     44.0   77.788787    77.551130   \n 3  2020-07-04  Turks and Caicos Islands     44.0   89.349805    88.961720   \n 4  2020-07-05  Turks and Caicos Islands     45.0  100.576689   100.006302   \n 5  2020-07-06  Turks and Caicos Islands     47.0  111.479097   110.696618   \n 6  2020-07-07  Turks and Caicos Islands     49.0  122.066406   121.044030   \n 7  2020-07-08  Turks and Caicos Islands     49.0  132.347724   131.059539   \n 8  2020-07-09  Turks and Caicos Islands     55.0  142.331894   140.753791   \n 9  2020-07-10  Turks and Caicos Islands     55.0  152.027504   150.137090   \n 10 2020-07-11  Turks and Caicos Islands     66.0  161.442894   159.219411   \n 11 2020-07-12  Turks and Caicos Islands     66.0  170.586163   168.010408   \n 12 2020-07-13  Turks and Caicos Islands     72.0  179.465175   176.519426   \n 13 2020-07-14  Turks and Caicos Islands     72.0  188.087569   184.755511   \n \n      VAR  \n 0   None  \n 1   None  \n 2   None  \n 3   None  \n 4   None  \n 5   None  \n 6   None  \n 7   None  \n 8   None  \n 9   None  \n 10  None  \n 11  None  \n 12  None  \n 13  None  ,\n 'Uganda':          date country  actuals      sarimax  sarimaxExog   VAR\n 0  2020-07-01  Uganda    889.0   885.423984   877.657948  None\n 1  2020-07-02  Uganda    893.0   896.903066   879.991570  None\n 2  2020-07-03  Uganda    902.0   911.100512   885.537235  None\n 3  2020-07-04  Uganda    911.0   923.424781   888.317599  None\n 4  2020-07-05  Uganda    927.0   937.039823   892.598721  None\n 5  2020-07-06  Uganda    939.0   949.765415   895.410874  None\n 6  2020-07-07  Uganda    953.0   963.103912   898.889575  None\n 7  2020-07-08  Uganda    971.0   976.020068   901.562603  None\n 8  2020-07-09  Uganda    977.0   989.227251   904.501838  None\n 9  2020-07-10  Uganda   1000.0  1002.233892   906.980064  None\n 10 2020-07-11  Uganda   1006.0  1015.378723   909.537614  None\n 11 2020-07-12  Uganda   1013.0  1028.428330   911.817412  None\n 12 2020-07-13  Uganda   1025.0  1041.543555   914.093699  None\n 13 2020-07-14  Uganda   1029.0  1054.613563   916.192890  None,\n 'Ukraine':          date  country  actuals       sarimax   sarimaxExog      VAR\n 0  2020-07-01  Ukraine  44998.0  44571.214838  44562.637446  44471.0\n 1  2020-07-02  Ukraine  44998.0  45452.042203  45435.270819  45235.0\n 2  2020-07-03  Ukraine  45887.0  46294.148749  46268.148526  45944.0\n 3  2020-07-04  Ukraine  47677.0  47165.446187  47125.013294  46702.0\n 4  2020-07-05  Ukraine  47677.0  48033.226069  47975.569592  47415.0\n 5  2020-07-06  Ukraine  49043.0  48896.142116  48818.198902  48115.0\n 6  2020-07-07  Ukraine  49607.0  49761.793692  49659.483051  48820.0\n 7  2020-07-08  Ukraine  50414.0  50627.381956  50496.793965  49501.0\n 8  2020-07-09  Ukraine  51224.0  51492.406162  51329.460816  50176.0\n 9  2020-07-10  Ukraine  52043.0  52357.673305  52157.963353  50844.0\n 10 2020-07-11  Ukraine  52043.0  53222.963309  52981.928763  51499.0\n 11 2020-07-12  Ukraine  52843.0  54088.191642  53801.094480  52148.0\n 12 2020-07-13  Ukraine  54133.0  54953.440115  54615.343406  52788.0\n 13 2020-07-14  Ukraine  54771.0  55818.693698  55424.489917  53421.0,\n 'United Arab Emirates':          date               country  actuals       sarimax   sarimaxExog  \\\n 0  2020-07-01  United Arab Emirates  48667.0  48690.736014  48678.304021   \n 1  2020-07-02  United Arab Emirates  49069.0  49136.987159  49105.845803   \n 2  2020-07-03  United Arab Emirates  49469.0  49582.699930  49524.416863   \n 3  2020-07-04  United Arab Emirates  50141.0  50028.604002  49936.201930   \n 4  2020-07-05  United Arab Emirates  50857.0  50474.440099  50340.832354   \n 5  2020-07-06  United Arab Emirates  51540.0  50920.300350  50738.936969   \n 6  2020-07-07  United Arab Emirates  52068.0  51366.152018  51130.732078   \n 7  2020-07-08  United Arab Emirates  52600.0  51812.006735  51516.580879   \n 8  2020-07-09  United Arab Emirates  53045.0  52257.860369  51896.771239   \n 9  2020-07-10  United Arab Emirates  53577.0  52703.714388  52271.603871   \n 10 2020-07-11  United Arab Emirates  54050.0  53149.568271  52641.357392   \n 11 2020-07-12  United Arab Emirates  54453.0  53595.422202  53006.302355   \n 12 2020-07-13  United Arab Emirates  54854.0  54041.276115  53366.695903   \n 13 2020-07-14  United Arab Emirates  55198.0  54487.130035  53722.784192   \n \n         VAR  \n 0   48691.0  \n 1   49138.0  \n 2   49585.0  \n 3   50032.0  \n 4   50480.0  \n 5   50928.0  \n 6   51376.0  \n 7   51824.0  \n 8   52273.0  \n 9   52721.0  \n 10  53170.0  \n 11  53619.0  \n 12  54068.0  \n 13  54517.0  ,\n 'United Kingdom':          date         country   actuals        sarimax    sarimaxExog  \\\n 0  2020-07-01  United Kingdom  312654.0  312917.495184  312828.468688   \n 1  2020-07-02  United Kingdom  313483.0  313997.489159  313743.932620   \n 2  2020-07-03  United Kingdom  283757.0  315079.266318  314613.566043   \n 3  2020-07-04  United Kingdom  284276.0  316162.257529  315486.941137   \n 4  2020-07-05  United Kingdom  284900.0  317246.075305  316345.998647   \n 5  2020-07-06  United Kingdom  285416.0  318330.455836  317198.558781   \n 6  2020-07-07  United Kingdom  285768.0  319415.219508  318042.453848   \n 7  2020-07-08  United Kingdom  286349.0  320500.244036  318879.291118   \n 8  2020-07-09  United Kingdom  286979.0  321585.446163  319709.176943   \n 9  2020-07-10  United Kingdom  287621.0  322670.769205  320532.744065   \n 10 2020-07-11  United Kingdom  288133.0  323756.174570  321350.377166   \n 11 2020-07-12  United Kingdom  288953.0  324841.635984  322162.512997   \n 12 2020-07-13  United Kingdom  289603.0  325927.135558  322969.528109   \n 13 2020-07-14  United Kingdom  290133.0  327012.661112  323771.784601   \n \n          VAR  \n 0   312679.0  \n 1   313524.0  \n 2   314382.0  \n 3   315214.0  \n 4   315961.0  \n 5   316634.0  \n 6   317291.0  \n 7   317947.0  \n 8   318633.0  \n 9   319327.0  \n 10  319997.0  \n 11  320646.0  \n 12  321286.0  \n 13  321936.0  ,\n 'United States of America':          date                   country    actuals       sarimax  \\\n 0  2020-07-01  United States of America  2634432.0  2.631471e+06   \n 1  2020-07-02  United States of America  2686480.0  2.672343e+06   \n 2  2020-07-03  United States of America  2739879.0  2.713211e+06   \n 3  2020-07-04  United States of America  2794321.0  2.754080e+06   \n 4  2020-07-05  United States of America  2839542.0  2.794948e+06   \n 5  2020-07-06  United States of America  2888635.0  2.835816e+06   \n 6  2020-07-07  United States of America  2938625.0  2.876684e+06   \n 7  2020-07-08  United States of America  2996098.0  2.917552e+06   \n 8  2020-07-09  United States of America  3055004.0  2.958421e+06   \n 9  2020-07-10  United States of America  3118008.0  2.999289e+06   \n 10 2020-07-11  United States of America  3184633.0  3.040157e+06   \n 11 2020-07-12  United States of America  3247684.0  3.081025e+06   \n 12 2020-07-13  United States of America  3304942.0  3.121893e+06   \n 13 2020-07-14  United States of America  3363056.0  3.162762e+06   \n \n      sarimaxExog        VAR  \n 0   2.631378e+06  2632598.0  \n 1   2.672113e+06  2676072.0  \n 2   2.712805e+06  2718389.0  \n 3   2.753458e+06  2760479.0  \n 4   2.794075e+06  2802654.0  \n 5   2.834656e+06  2845396.0  \n 6   2.875203e+06  2888365.0  \n 7   2.915718e+06  2931243.0  \n 8   2.956201e+06  2974011.0  \n 9   2.996654e+06  3016805.0  \n 10  3.037078e+06  3059720.0  \n 11  3.077473e+06  3102687.0  \n 12  3.117843e+06  3145619.0  \n 13  3.158186e+06  3188479.0  ,\n 'United States Virgin Islands':          date                       country  actuals    sarimax  sarimaxExog  \\\n 0  2020-07-01  United States Virgin Islands     84.0  82.060791    81.913159   \n 1  2020-07-02  United States Virgin Islands     92.0  82.936127    82.517915   \n 2  2020-07-03  United States Virgin Islands     98.0  82.936127    82.564361   \n 3  2020-07-04  United States Virgin Islands    111.0  82.936127    82.608964   \n 4  2020-07-05  United States Virgin Islands    111.0  82.936127    82.651797   \n 5  2020-07-06  United States Virgin Islands    112.0  82.936127    82.692931   \n 6  2020-07-07  United States Virgin Islands    116.0  82.936127    82.732433   \n 7  2020-07-08  United States Virgin Islands    122.0  82.936127    82.770368   \n 8  2020-07-09  United States Virgin Islands    144.0  82.936127    82.806797   \n 9  2020-07-10  United States Virgin Islands    153.0  82.936127    82.841782   \n 10 2020-07-11  United States Virgin Islands    167.0  82.936127    82.875378   \n 11 2020-07-12  United States Virgin Islands    181.0  82.936127    82.907641   \n 12 2020-07-13  United States Virgin Islands    181.0  82.936127    82.938624   \n 13 2020-07-14  United States Virgin Islands    217.0  82.936127    82.968378   \n \n      VAR  \n 0   None  \n 1   None  \n 2   None  \n 3   None  \n 4   None  \n 5   None  \n 6   None  \n 7   None  \n 8   None  \n 9   None  \n 10  None  \n 11  None  \n 12  None  \n 13  None  ,\n 'Uruguay':          date  country  actuals    sarimax  sarimaxExog     VAR\n 0  2020-07-01  Uruguay    936.0   938.0128   934.923958   937.0\n 1  2020-07-02  Uruguay    943.0   944.0256   937.806639   944.0\n 2  2020-07-03  Uruguay    947.0   950.0384   940.648922   950.0\n 3  2020-07-04  Uruguay    952.0   956.0512   943.451670   955.0\n 4  2020-07-05  Uruguay    955.0   962.0640   946.215726   961.0\n 5  2020-07-06  Uruguay    956.0   968.0768   948.941914   967.0\n 6  2020-07-07  Uruguay    960.0   974.0896   951.631042   974.0\n 7  2020-07-08  Uruguay    965.0   980.1024   954.283900   980.0\n 8  2020-07-09  Uruguay    974.0   986.1152   956.901262   986.0\n 9  2020-07-10  Uruguay    977.0   992.1280   959.483884   992.0\n 10 2020-07-11  Uruguay    985.0   998.1408   962.032508   999.0\n 11 2020-07-12  Uruguay    986.0  1004.1536   964.547858  1005.0\n 12 2020-07-13  Uruguay    987.0  1010.1664   967.030644  1011.0\n 13 2020-07-14  Uruguay    989.0  1016.1792   969.481560  1018.0,\n 'Uzbekistan':          date     country  actuals       sarimax   sarimaxExog      VAR\n 0  2020-07-01  Uzbekistan   8627.0   8562.991689   8576.604475   8555.0\n 1  2020-07-02  Uzbekistan   8904.0   8827.983377   8862.265769   8839.0\n 2  2020-07-03  Uzbekistan   9199.0   9092.975066   9155.117931   9118.0\n 3  2020-07-04  Uzbekistan   9500.0   9357.966754   9455.297558   9390.0\n 4  2020-07-05  Uzbekistan   9829.0   9622.958443   9762.943841   9670.0\n 5  2020-07-06  Uzbekistan  10143.0   9887.950132  10078.198615   9952.0\n 6  2020-07-07  Uzbekistan  10459.0  10152.941820  10401.206409  10231.0\n 7  2020-07-08  Uzbekistan  10838.0  10417.933509  10732.114497  10513.0\n 8  2020-07-09  Uzbekistan  11259.0  10682.925197  11071.072951  10797.0\n 9  2020-07-10  Uzbekistan  11723.0  10947.916886  11418.234695  11081.0\n 10 2020-07-11  Uzbekistan  12206.0  11212.908575  11773.755553  11366.0\n 11 2020-07-12  Uzbekistan  12513.0  11477.900263  12137.794314  11653.0\n 12 2020-07-13  Uzbekistan  13193.0  11742.891952  12510.512781  11941.0\n 13 2020-07-14  Uzbekistan  13872.0  12007.883640  12892.075829  12229.0,\n 'Vatican':          date  country  actuals  sarimax  sarimaxExog   VAR\n 0  2020-07-01  Vatican     12.0     12.0    12.001701  None\n 1  2020-07-02  Vatican     12.0     12.0    12.003289  None\n 2  2020-07-03  Vatican     12.0     12.0    12.004772  None\n 3  2020-07-04  Vatican     12.0     12.0    12.006155  None\n 4  2020-07-05  Vatican     12.0     12.0    12.007447  None\n 5  2020-07-06  Vatican     12.0     12.0    12.008653  None\n 6  2020-07-07  Vatican     12.0     12.0    12.009779  None\n 7  2020-07-08  Vatican     12.0     12.0    12.010830  None\n 8  2020-07-09  Vatican     12.0     12.0    12.011810  None\n 9  2020-07-10  Vatican     12.0     12.0    12.012726  None\n 10 2020-07-11  Vatican     12.0     12.0    12.013580  None\n 11 2020-07-12  Vatican     12.0     12.0    12.014378  None\n 12 2020-07-13  Vatican     12.0     12.0    12.015123  None\n 13 2020-07-14  Vatican     12.0     12.0    12.015818  None,\n 'Venezuela':          date    country  actuals      sarimax  sarimaxExog     VAR\n 0  2020-07-01  Venezuela   5832.0  5541.054983  5615.056936  5701.0\n 1  2020-07-02  Venezuela   6062.0  5721.947216  5842.978705  5898.0\n 2  2020-07-03  Venezuela   6273.0  5902.839449  6077.678798  6069.0\n 3  2020-07-04  Venezuela   6537.0  6083.731682  6319.156528  6245.0\n 4  2020-07-05  Venezuela   6750.0  6264.623915  6567.393675  6406.0\n 5  2020-07-06  Venezuela   7169.0  6445.516147  6822.353555  6565.0\n 6  2020-07-07  Venezuela   7411.0  6626.408380  7083.980150  6716.0\n 7  2020-07-08  Venezuela   7693.0  6807.300613  7352.197312  6863.0\n 8  2020-07-09  Venezuela   8010.0  6988.192846  7626.908067  7004.0\n 9  2020-07-10  Venezuela   8372.0  7169.085079  7907.994003  7142.0\n 10 2020-07-11  Venezuela   8803.0  7349.977311  8195.314792  7274.0\n 11 2020-07-12  Venezuela   9178.0  7530.869544  8488.707829  7402.0\n 12 2020-07-13  Venezuela   9465.0  7711.761777  8787.988012  7527.0\n 13 2020-07-14  Venezuela   9707.0  7892.654010  9092.947680  7648.0,\n 'Vietnam':          date  country  actuals     sarimax  sarimaxExog    VAR\n 0  2020-07-01  Vietnam    355.0  355.749271   355.482320  356.0\n 1  2020-07-02  Vietnam    355.0  356.409116   355.825985  357.0\n 2  2020-07-03  Vietnam    355.0  357.107070   356.210684  359.0\n 3  2020-07-04  Vietnam    355.0  357.729811   356.484059  360.0\n 4  2020-07-05  Vietnam    355.0  358.380521   356.790903  362.0\n 5  2020-07-06  Vietnam    355.0  358.967691   357.008364  364.0\n 6  2020-07-07  Vietnam    369.0  359.574812   357.253114  366.0\n 7  2020-07-08  Vietnam    369.0  360.127997   357.426096  368.0\n 8  2020-07-09  Vietnam    369.0  360.694819   357.621324  370.0\n 9  2020-07-10  Vietnam    369.0  361.215630   357.758925  373.0\n 10 2020-07-11  Vietnam    370.0  361.745128   357.914654  375.0\n 11 2020-07-12  Vietnam    370.0  362.235172   358.024110  378.0\n 12 2020-07-13  Vietnam    372.0  362.730048   358.148336  380.0\n 13 2020-07-14  Vietnam    373.0  363.190912   358.235403  383.0,\n 'Western Sahara':          date         country  actuals  sarimax  sarimaxExog   VAR\n 0  2020-07-01  Western Sahara    380.0    208.0        208.0  None\n 1  2020-07-02  Western Sahara    461.0    208.0        208.0  None\n 2  2020-07-03  Western Sahara    461.0    208.0        208.0  None\n 3  2020-07-04  Western Sahara    519.0    208.0        208.0  None\n 4  2020-07-05  Western Sahara    519.0    208.0        208.0  None\n 5  2020-07-06  Western Sahara    519.0    208.0        208.0  None\n 6  2020-07-07  Western Sahara    519.0    208.0        208.0  None\n 7  2020-07-08  Western Sahara    519.0    208.0        208.0  None\n 8  2020-07-09  Western Sahara    519.0    208.0        208.0  None\n 9  2020-07-10  Western Sahara    519.0    208.0        208.0  None\n 10 2020-07-11  Western Sahara    519.0    208.0        208.0  None\n 11 2020-07-12  Western Sahara    519.0    208.0        208.0  None\n 12 2020-07-13  Western Sahara    519.0    208.0        208.0  None\n 13 2020-07-14  Western Sahara    761.0    208.0        208.0  None,\n 'Yemen':          date country  actuals      sarimax  sarimaxExog     VAR\n 0  2020-07-01   Yemen   1158.0  1147.124798  1145.550948  1141.0\n 1  2020-07-02   Yemen   1190.0  1166.168233  1161.938524  1154.0\n 2  2020-07-03   Yemen   1221.0  1187.257369  1178.797101  1168.0\n 3  2020-07-04   Yemen   1240.0  1208.661132  1194.664495  1182.0\n 4  2020-07-05   Yemen   1248.0  1230.577705  1209.812780  1196.0\n 5  2020-07-06   Yemen   1265.0  1252.648744  1224.018717  1210.0\n 6  2020-07-07   Yemen   1290.0  1274.860637  1237.351949  1224.0\n 7  2020-07-08   Yemen   1297.0  1297.130312  1249.804522  1239.0\n 8  2020-07-09   Yemen   1318.0  1319.441174  1261.418918  1253.0\n 9  2020-07-10   Yemen   1356.0  1341.771779  1272.226065  1268.0\n 10 2020-07-11   Yemen   1380.0  1364.114892  1282.265773  1282.0\n 11 2020-07-12   Yemen   1389.0  1386.464494  1291.576072  1297.0\n 12 2020-07-13   Yemen   1465.0  1408.817976  1300.196227  1312.0\n 13 2020-07-14   Yemen   1498.0  1431.173553  1308.164697  1326.0,\n 'Zambia':          date country  actuals      sarimax  sarimaxExog   VAR\n 0  2020-07-01  Zambia   1594.0  1585.923614  1583.417525  None\n 1  2020-07-02  Zambia   1632.0  1601.203832  1597.063477  None\n 2  2020-07-03  Zambia   1632.0  1617.493284  1611.090231  None\n 3  2020-07-04  Zambia   1632.0  1633.397416  1624.779939  None\n 4  2020-07-05  Zambia   1632.0  1649.448660  1638.399524  None\n 5  2020-07-06  Zambia   1632.0  1665.443738  1651.875433  None\n 6  2020-07-07  Zambia   1632.0  1681.460260  1665.249447  None\n 7  2020-07-08  Zambia   1895.0  1697.468595  1678.522119  None\n 8  2020-07-09  Zambia   1895.0  1713.480056  1691.706744  None\n 9  2020-07-10  Zambia   1895.0  1729.490323  1704.810932  None\n 10 2020-07-11  Zambia   1895.0  1745.501046  1717.843065  None\n 11 2020-07-12  Zambia   1895.0  1761.511595  1730.810188  None\n 12 2020-07-13  Zambia   1895.0  1777.522210  1743.718831  None\n 13 2020-07-14  Zambia   1895.0  1793.532800  1756.574824  None,\n 'Zimbabwe':          date   country  actuals     sarimax  sarimaxExog   VAR\n 0  2020-07-01  Zimbabwe    591.0  585.192656   580.421267  None\n 1  2020-07-02  Zimbabwe    605.0  596.385312   586.307146  None\n 2  2020-07-03  Zimbabwe    617.0  607.577967   591.693184  None\n 3  2020-07-04  Zimbabwe    625.0  618.770623   596.614610  None\n 4  2020-07-05  Zimbabwe    698.0  629.963279   601.105868  None\n 5  2020-07-06  Zimbabwe    716.0  641.155935   605.200255  None\n 6  2020-07-07  Zimbabwe    734.0  652.348591   608.929658  None\n 7  2020-07-08  Zimbabwe    787.0  663.541246   612.324358  None\n 8  2020-07-09  Zimbabwe    885.0  674.733902   615.412916  None\n 9  2020-07-10  Zimbabwe    926.0  685.926558   618.222100  None\n 10 2020-07-11  Zimbabwe    942.0  697.119214   620.776866  None\n 11 2020-07-12  Zimbabwe    982.0  708.311870   623.100373  None\n 12 2020-07-13  Zimbabwe    985.0  719.504525   625.214024  None\n 13 2020-07-14  Zimbabwe   1034.0  730.697181   627.137524  None,\n 'World':          date country     actuals       sarimax   sarimaxExog   VAR\n 0  2020-07-01   World  10465969.0  1.043588e+07  1.043555e+07  None\n 1  2020-07-02   World  10666333.0  1.059955e+07  1.059856e+07  None\n 2  2020-07-03   World  10844808.0  1.076377e+07  1.076183e+07  None\n 3  2020-07-04   World  11051364.0  1.092823e+07  1.092507e+07  None\n 4  2020-07-05   World  11241076.0  1.109281e+07  1.108815e+07  None\n 5  2020-07-06   World  11419904.0  1.125744e+07  1.125101e+07  None\n 6  2020-07-07   World  11595202.0  1.142209e+07  1.141363e+07  None\n 7  2020-07-08   World  11802214.0  1.158675e+07  1.157599e+07  None\n 8  2020-07-09   World  12017686.0  1.175141e+07  1.173808e+07  None\n 9  2020-07-10   World  12246290.0  1.191608e+07  1.189990e+07  None\n 10 2020-07-11   World  12476333.0  1.208075e+07  1.206145e+07  None\n 11 2020-07-12   World  12694827.0  1.224542e+07  1.222273e+07  None\n 12 2020-07-13   World  12889783.0  1.241009e+07  1.238373e+07  None\n 13 2020-07-14   World  13080036.0  1.257476e+07  1.254445e+07  None,\n 'International':          date        country actuals  sarimax  sarimaxExog   VAR\n 0  2020-07-01  International    None    696.0   696.000099  None\n 1  2020-07-02  International    None    696.0   696.000099  None\n 2  2020-07-03  International    None    696.0   696.000099  None\n 3  2020-07-04  International    None    696.0   696.000099  None\n 4  2020-07-05  International    None    696.0   696.000099  None\n 5  2020-07-06  International    None    696.0   696.000099  None\n 6  2020-07-07  International    None    696.0   696.000099  None\n 7  2020-07-08  International    None    696.0   696.000099  None\n 8  2020-07-09  International    None    696.0   696.000099  None\n 9  2020-07-10  International    None    696.0   696.000099  None\n 10 2020-07-11  International    None    696.0   696.000099  None\n 11 2020-07-12  International    None    696.0   696.000099  None\n 12 2020-07-13  International    None    696.0   696.000099  None\n 13 2020-07-14  International    None    696.0   696.000099  None}"
     },
     "metadata": {},
     "execution_count": 3
    }
   ],
   "source": [
    "def GenerateComparisonCountry():\n",
    "    counter = 0\n",
    "    countryLen = len(df.country.unique())\n",
    "    modelsDict = dict() #initialize a dicitionary to add dataframes to with key as the country name\n",
    "    for country in df.country.unique():\n",
    "        if counter < 500: #arbritray value soo all countries run\n",
    "            #Generates a df template with date index to append predictions to\n",
    "            timeDeltaObjectEnd = datetime.datetime.strptime(\"2020-07-14\", \"%Y-%m-%d\")\n",
    "            timeDeltaObjectStart = datetime.datetime.strptime(\"2020-07-01\", \"%Y-%m-%d\")#df.index[len(df)-1] #gets last date in df var\n",
    "            dateTimeDelta = timeDeltaObjectEnd - timeDeltaObjectStart\n",
    "            dateTimeDeltaInt = dateTimeDelta.days\n",
    "            compareDates = pd.date_range(start=\"2020-07-01\", end=\"2020-07-14\") #creates ranges of dates from start-end+delta\n",
    "            modelsCompareDfAppend = pd.DataFrame(compareDates, columns=[\"date\"]) #.set_index(\"date\")\n",
    "            modelsCompareDf = modelsCompareDfAppend\n",
    "            #End of df template creation\n",
    "            counter = counter + 1\n",
    "\n",
    "            ModelGenerator = CovidModels.HackathonModels(df, country)\n",
    "            countryDF = ModelGenerator.getcountrydf(fields=['date','total_cases']).asfreq('D').fillna(0)\n",
    "            varDF = ModelGenerator.getcountrydf(fields=['date','total_cases','stringency_index']).asfreq('D').fillna(0)\n",
    "        \n",
    "            #countryDF = countryDF.loc[:'2020-06-30'] #Limits date for backtesting purposes\n",
    "            #varDF = varDF.loc[:'2020-06-30'] #Limits date for backtesting purposes\n",
    "            modelsCompareDf['country'] = country\n",
    "            \n",
    "            #Add in actuals to the modelsCompareDF\n",
    "            try:\n",
    "                backTestDF = countryDF.loc['2020-07-01':'2020-07-14']\n",
    "                modelsCompareDf['actuals'] = backTestDF.total_cases.values.flatten()\n",
    "            except:\n",
    "                print('backtest error')\n",
    "                modelsCompareDf['actuals'] = None\n",
    "            \n",
    "            countryDF = countryDF.loc[:'2020-06-30'] #Limits date for backtesting purposes\n",
    "            varDF = varDF.loc[:'2020-06-30'] #Limits date for backtesting purposes\n",
    "            \n",
    "            #Run sarimax and add predictions to modelsCompareDf\n",
    "            try:\n",
    "                print('Running SARIMAX on ' + str(country))\n",
    "                sarimaxDF = ModelGenerator.run_sarimax(countryDF,\"2020-07-14\")[0] #returns a DF of predicted cases and original \n",
    "                modelsCompareDf['sarimax'] = sarimaxDF.loc['2020-07-01':'2020-07-14'].new_cases_predict.values.flatten()\n",
    "            except:\n",
    "                print(\"sarimax error\")\n",
    "                modelsCompareDf['sarimax'] = None\n",
    "\n",
    "            #Run SARIMAX with exogenous log fitted curve and add to modelsCompareDf\n",
    "            try:\n",
    "                print('Running SARIMAX exog on' + str(country))\n",
    "                exogDF = ModelGenerator.getSigmoidFit(countryDF, \"2020-07-14\")\n",
    "                sarimaxDFExog = ModelGenerator.run_sarimax_exog(countryDF,exogDF, '2020-07-14')[0]\n",
    "                modelsCompareDf['sarimaxExog'] = sarimaxDFExog.loc['2020-07-01':'2020-07-14'].new_cases_predict.values.flatten()\n",
    "            except:\n",
    "                print(\"sarimax exog error\")\n",
    "                modelsCompareDf['sarimaxExog'] = None\n",
    "\n",
    "            #Run VAR with endogenous stringency index and add to modelsCompareDf\n",
    "            try:\n",
    "                print('Running VAR on ' + str(country))\n",
    "                varDF = ModelGenerator.run_VAR_MAVGStringency_tc(varDF, 13) #predicts 14 days forward\n",
    "                modelsCompareDf['VAR'] = varDF.loc['2020-07-01':'2020-07-14'].total_cases_predict.values.flatten()                \n",
    "            except:        \n",
    "                print(\"VAR error\")\n",
    "                modelsCompareDf['VAR'] = None\n",
    "\n",
    "            #Track which country we're on\n",
    "            print(str(countryLen-counter) + \" remaining\")\n",
    "\n",
    "\n",
    "            #Adds the stored predictions into the modelsDict dictionary\n",
    "            modelsDict[country] = modelsCompareDf\n",
    "\n",
    "            #Pickles the latest dictionary in case function breaks unexpectdly\n",
    "            with open(\"C:\\\\Users\\\\dylan.levine\\\\Development\\\\Covid Hackathon\\\\BacktestPersistedData\\\\inprogressdict.pk1\", 'wb') as handle:\n",
    "                pickle.dump(modelsDict, handle, protocol=pickle.HIGHEST_PROTOCOL)\n",
    "\n",
    "    return modelsDict\n",
    "        \n",
    "dfCompare = GenerateComparisonCountry()\n",
    "dfCompare"
   ]
  },
  {
   "cell_type": "markdown",
   "metadata": {},
   "source": [
    "### Persist the country backtests data"
   ]
  },
  {
   "cell_type": "code",
   "execution_count": 5,
   "metadata": {},
   "outputs": [],
   "source": [
    "import json\n",
    "dfCompare\n",
    "\n",
    "#Iterates through dictionary and creates a list of DFs\n",
    "df_list = [v for k,v in dfCompare.items()] \n",
    "\n",
    "#Creates a combined DF from the combined list of DFs\n",
    "combinedDF = pd.concat(df_list ,axis=0)\n",
    "\n",
    "#pickles the combined dataframe, and save the combined dataframe to CSV to persist the data\n",
    "combinedDF.to_pickle(\"C:\\\\Users\\\\dylan.levine\\\\Development\\\\Covid Hackathon\\\\BacktestPersistedData\\\\BacktestDF.pk1\")\n",
    "combinedDF.to_csv(\"C:\\\\Users\\\\dylan.levine\\\\Development\\\\Covid Hackathon\\\\BacktestPersistedData\\\\BacktestDF.csv\")\n",
    "#newCombed = pd.read_pickle(\"C:\\\\Users\\\\dylan.levine\\\\Development\\\\Covid Hackathon\\\\BacktestPersistedData\\\\BacktestDF.pk1\")\n",
    "#newCombed\n",
    "\n",
    "#Example on how to load the inprogress pickle (represents the latest value in dictionary loop)\n",
    "#with open(\"C:\\\\Users\\\\dylan.levine\\\\Development\\\\Covid Hackathon\\\\BacktestPersistedData\\\\inprogressdict.pk1\", 'rb') as handle:\n",
    "#    pickle = pickle.load(handle)\n",
    "\n",
    "#newCombed = pd.read_pickle(\"C:\\\\Users\\\\dylan.levine\\\\Development\\\\Covid Hackathon\\\\BacktestPersistedData\\\\BacktestDF.pk1\")\n",
    "#newCombed\n"
   ]
  },
  {
   "cell_type": "markdown",
   "metadata": {},
   "source": [
    "### Generate backtests for States"
   ]
  },
  {
   "cell_type": "code",
   "execution_count": 4,
   "metadata": {
    "tags": []
   },
   "outputs": [
    {
     "output_type": "stream",
     "name": "stdout",
     "text": "backtest error\nRunning SARIMAX on N\\A\nsarimax error\nRunning SARIMAX exog onN\\A\nsarimax exog error\n51 remaining\nRunning SARIMAX on AL\nRunning SARIMAX exog onAL\n50 remaining\nRunning SARIMAX on AK\nRunning SARIMAX exog onAK\n49 remaining\nRunning SARIMAX on AZ\nRunning SARIMAX exog onAZ\nsarimax exog error\n48 remaining\nRunning SARIMAX on AR\nRunning SARIMAX exog onAR\nsarimax exog error\n47 remaining\nRunning SARIMAX on CA\nRunning SARIMAX exog onCA\n46 remaining\nRunning SARIMAX on CO\nRunning SARIMAX exog onCO\n45 remaining\nRunning SARIMAX on CT\nRunning SARIMAX exog onCT\n44 remaining\nRunning SARIMAX on DE\nRunning SARIMAX exog onDE\n43 remaining\nRunning SARIMAX on DC\nRunning SARIMAX exog onDC\n42 remaining\nRunning SARIMAX on FL\nRunning SARIMAX exog onFL\n41 remaining\nRunning SARIMAX on GA\nRunning SARIMAX exog onGA\n40 remaining\nRunning SARIMAX on HI\nRunning SARIMAX exog onHI\n39 remaining\nRunning SARIMAX on ID\nRunning SARIMAX exog onID\n38 remaining\nRunning SARIMAX on IL\nRunning SARIMAX exog onIL\n37 remaining\nRunning SARIMAX on IN\nRunning SARIMAX exog onIN\n36 remaining\nRunning SARIMAX on IA\nRunning SARIMAX exog onIA\n35 remaining\nRunning SARIMAX on KS\nRunning SARIMAX exog onKS\n34 remaining\nRunning SARIMAX on KY\nRunning SARIMAX exog onKY\n33 remaining\nRunning SARIMAX on LA\nRunning SARIMAX exog onLA\n32 remaining\nRunning SARIMAX on ME\nRunning SARIMAX exog onME\n31 remaining\nRunning SARIMAX on MD\nRunning SARIMAX exog onMD\n30 remaining\nRunning SARIMAX on MA\nRunning SARIMAX exog onMA\n29 remaining\nRunning SARIMAX on MI\nRunning SARIMAX exog onMI\n28 remaining\nRunning SARIMAX on MN\nRunning SARIMAX exog onMN\n27 remaining\nRunning SARIMAX on MS\nRunning SARIMAX exog onMS\n26 remaining\nRunning SARIMAX on MO\nRunning SARIMAX exog onMO\n25 remaining\nRunning SARIMAX on MT\nRunning SARIMAX exog onMT\n24 remaining\nRunning SARIMAX on NE\nRunning SARIMAX exog onNE\n23 remaining\nRunning SARIMAX on NV\nRunning SARIMAX exog onNV\n22 remaining\nRunning SARIMAX on NH\nRunning SARIMAX exog onNH\n21 remaining\nRunning SARIMAX on NJ\nRunning SARIMAX exog onNJ\n20 remaining\nRunning SARIMAX on NM\nRunning SARIMAX exog onNM\n19 remaining\nRunning SARIMAX on NY\nRunning SARIMAX exog onNY\n18 remaining\nRunning SARIMAX on NC\nRunning SARIMAX exog onNC\n17 remaining\nRunning SARIMAX on ND\nRunning SARIMAX exog onND\n16 remaining\nRunning SARIMAX on OH\nRunning SARIMAX exog onOH\n15 remaining\nRunning SARIMAX on OK\nRunning SARIMAX exog onOK\n14 remaining\nRunning SARIMAX on OR\nRunning SARIMAX exog onOR\n13 remaining\nRunning SARIMAX on PA\nRunning SARIMAX exog onPA\n12 remaining\nRunning SARIMAX on RI\nRunning SARIMAX exog onRI\n11 remaining\nRunning SARIMAX on SC\nRunning SARIMAX exog onSC\n10 remaining\nRunning SARIMAX on SD\nRunning SARIMAX exog onSD\n9 remaining\nRunning SARIMAX on TN\nRunning SARIMAX exog onTN\n8 remaining\nRunning SARIMAX on TX\nRunning SARIMAX exog onTX\nsarimax exog error\n7 remaining\nRunning SARIMAX on UT\nRunning SARIMAX exog onUT\n6 remaining\nRunning SARIMAX on VT\nRunning SARIMAX exog onVT\n5 remaining\nRunning SARIMAX on VA\nRunning SARIMAX exog onVA\n4 remaining\nRunning SARIMAX on WA\nRunning SARIMAX exog onWA\n3 remaining\nRunning SARIMAX on WV\nRunning SARIMAX exog onWV\n2 remaining\nRunning SARIMAX on WI\nRunning SARIMAX exog onWI\n1 remaining\nRunning SARIMAX on WY\nRunning SARIMAX exog onWY\n0 remaining\n"
    },
    {
     "output_type": "execute_result",
     "data": {
      "text/plain": "E    21603  21441.202531  21305.827683,\n 'NV':          date state  actuals       sarimax   sarimaxExog\n 0  2020-07-01    NV    19101  19102.771648  19139.348377\n 1  2020-07-02    NV    19732  19749.543295  19840.502457\n 2  2020-07-03    NV    20717  20396.314943  20559.793226\n 3  2020-07-04    NV    21575  21043.086591  21297.557796\n 4  2020-07-05    NV    22418  21689.858238  22054.139515\n 5  2020-07-06    NV    22909  22336.629886  22829.888081\n 6  2020-07-07    NV    23785  22983.401534  23625.159659\n 7  2020-07-08    NV    24301  23630.173181  24440.317000\n 8  2020-07-09    NV    25033  24276.944829  25275.729563\n 9  2020-07-10    NV    25906  24923.716477  26131.773632\n 10 2020-07-11    NV    26838  25570.488124  27008.832448\n 11 2020-07-12    NV    27683  26217.259772  27907.296331\n 12 2020-07-13    NV    28515  26864.031420  28827.562812\n 13 2020-07-14    NV    29619  27510.803067  29770.036762,\n 'NH':          date state  actuals      sarimax  sarimaxExog\n 0  2020-07-01    NH     5802  5800.326858  5788.317597\n 1  2020-07-02    NH     5821  5823.743147  5799.979678\n 2  2020-07-03    NH     5856  5857.976664  5819.641276\n 3  2020-07-04    NH     5856  5885.014598  5831.596443\n 4  2020-07-05    NH     5897  5906.377719  5838.686129\n 5  2020-07-06    NH     5913  5934.849148  5851.548948\n 6  2020-07-07    NH     5932  5965.235447  5864.998807\n 7  2020-07-08    NH     5952  5989.775812  5872.913393\n 8  2020-07-09    NH     5973  6014.768519  5880.956054\n 9  2020-07-10    NH     5991  6043.923032  5891.940333\n 10 2020-07-11    NH     6024  6071.418224  5900.959538\n 11 2020-07-12    NH     6054  6096.376687  5907.488015\n 12 2020-07-13    NH     6068  6123.365674  5915.300572\n 13 2020-07-14    NH     6096  6151.576123  5923.696378,\n 'NJ':          date state  actuals        sarimax    sarimaxExog\n 0  2020-07-01    NJ   171928  171819.667225  171823.688516\n 1  2020-07-02    NJ   172356  172104.085279  172100.238724\n 2  2020-07-03    NJ   172742  172344.591853  172337.024942\n 3  2020-07-04    NJ   173032  172592.359123  172579.770117\n 4  2020-07-05    NJ   173402  172852.654923  172828.509354\n 5  2020-07-06    NJ   173608  173092.484825  173063.142704\n 6  2020-07-07    NJ   173854  173353.385034  173309.558094\n 7  2020-07-08    NJ   174039  173596.428187  173544.069603\n 8  2020-07-09    NJ   174268  173852.716913  173785.540398\n 9  2020-07-10    NJ   174626  174100.309936  174020.778789\n 10 2020-07-11    NJ   174959  174352.840033  174258.382772\n 11 2020-07-12    NJ   175298  174603.162803  174493.503089\n 12 2020-07-13    NJ   175522  174853.940619  174728.664379\n 13 2020-07-14    NJ   175915  175105.227541  174962.991156,\n 'NM':          date state  actuals       sarimax   sarimaxExog\n 0  2020-07-01    NM    11319  11340.857601  11324.011148\n 1  2020-07-02    NM    11520  11483.715203  11448.841926\n 2  2020-07-03    NM    11736  11626.572804  11572.530164\n 3  2020-07-04    NM    11968  11769.430406  11695.113575\n 4  2020-07-05    NM    12127  11912.288007  11816.629632\n 5  2020-07-06    NM    12295  12055.145609  11937.115459\n 6  2020-07-07    NM    12493  12198.003210  12056.607735\n 7  2020-07-08    NM    12732  12340.860812  12175.142606\n 8  2020-07-09    NM    12945  12483.718413  12292.755617\n 9  2020-07-10    NM    13199  12626.576015  12409.481641\n 10 2020-07-11    NM    13395  12769.433616  12525.354827\n 11 2020-07-12    NM    13623  12912.291218  12640.408550\n 12 2020-07-13    NM    13802  13055.148819  12754.675379\n 13 2020-07-14    NM    13978  13198.006421  12868.187036,\n 'NY':          date state  actuals        sarimax    sarimaxExog\n 0  2020-07-01    NY   394248  394062.891321  394096.284297\n 1  2020-07-02    NY   395021  394659.641691  394737.485233\n 2  2020-07-03    NY   395939  395257.971918  395368.864261\n 3  2020-07-04    NY   396663  395839.015386  395964.197471\n 4  2020-07-05    NY   397200  396395.549792  396523.972700\n 5  2020-07-06    NY   397718  396930.043640  397064.324186\n 6  2020-07-07    NY   398313  397450.550317  397603.237244\n 7  2020-07-08    NY   398383  397966.402323  398151.520732\n 8  2020-07-09    NY   399575  398485.034872  398710.779414\n 9  2020-07-10    NY   400358  399010.473602  399276.468496\n 10 2020-07-11    NY   401098  399543.347656  399842.543516\n 11 2020-07-12    NY   401775  400081.891660  400404.903349\n 12 2020-07-13    NY   402332  400623.298226  400962.525980\n 13 2020-07-14    NY   403244  401164.902969  401516.713258,\n 'NC':          date state  actuals       sarimax   sarimaxExog\n 0  2020-07-01    NC    66496  65993.635662  66032.576902\n 1  2020-07-02    NC    68136  67342.637423  67427.778303\n 2  2020-07-03    NC    70219  68695.856300  68828.627904\n 3  2020-07-04    NC    71653  70049.836284  70231.655999\n 4  2020-07-05    NC    72979  71403.953632  71635.570217\n 5  2020-07-06    NC    74516  72758.095771  73039.297131\n 6  2020-07-07    NC    75871  74112.242385  74441.786349\n 7  2020-07-08    NC    77307  75466.389806  75841.993425\n 8  2020-07-09    NC    79347  76820.537374  77238.880884\n 9  2020-07-10    NC    81328  78174.684967  78631.421049\n 10 2020-07-11    NC    83778  79528.832565  80018.599001\n 11 2020-07-12    NC    85692  80882.980164  81399.415464\n 12 2020-07-13    NC    87516  82237.127764  82772.889606\n 13 2020-07-14    NC    89484  83591.275363  84138.061728,\n 'ND':          date state  actuals      sarimax  sarimaxExog\n 0  2020-07-01    ND     3615  3608.790636  3594.071659\n 1  2020-07-02    ND     3657  3641.581272  3611.616921\n 2  2020-07-03    ND     3722  3674.371909  3628.661987\n 3  2020-07-04    ND     3779  3707.162545  3645.232092\n 4  2020-07-05    ND     3816  3739.953181  3661.351503\n 5  2020-07-06    ND     3849  3772.743817  3677.043522\n 6  2020-07-07    ND     3897  3805.534453  3692.330485\n 7  2020-07-08    ND     3970  3838.325090  3707.233778\n 8  2020-07-09    ND     4069  3871.115726  3721.773850\n 9  2020-07-10    ND     4154  3903.906362  3735.970231\n 10 2020-07-11    ND     4243  3936.696998  3749.841555\n 11 2020-07-12    ND     4334  3969.487634  3763.405579\n 12 2020-07-13    ND     4442  4002.278271  3776.679210\n 13 2020-07-14    ND     4565  4035.068907  3789.678533,\n 'OH':          date state  actuals  sarimax   sarimaxExog\n 0  2020-07-01    OH    52866  52534.0  52531.366472\n 1  2020-07-02    OH    52866  53278.0  53270.193353\n 2  2020-07-03    OH    55258  54022.0  54006.573103\n 3  2020-07-04    OH    56183  54766.0  54740.596533\n 4  2020-07-05    OH    57151  55510.0  55472.352658\n 5  2020-07-06    OH    57956  56254.0  56201.928567\n 6  2020-07-07    OH    58905  56998.0  56929.409320\n 7  2020-07-08    OH    60182  57742.0  57654.877863\n 8  2020-07-09    OH    61331  58486.0  58378.414954\n 9  2020-07-10    OH    62855  59230.0  59100.099112\n 10 2020-07-11    OH    64214  59974.0  59820.006579\n 11 2020-07-12    OH    65593  60718.0  60538.211293\n 12 2020-07-13    OH    66850  61462.0  61254.784875\n 13 2020-07-14    OH    67996  62206.0  61969.796623,\n 'OK':          date state  actuals       sarimax   sarimaxExog\n 0  2020-07-01    OK    14113  14140.098884  14169.711829\n 1  2020-07-02    OK    14540  14529.197767  14598.746355\n 2  2020-07-03    OK    15065  14918.296651  15038.304747\n 3  2020-07-04    OK    15645  15307.395534  15488.592022\n 4  2020-07-05    OK    15928  15696.494418  15949.817121\n 5  2020-07-06    OK    16360  16085.593302  16422.192978\n 6  2020-07-07    OK    17220  16474.692185  16905.936594\n 7  2020-07-08    OK    17894  16863.791069  17401.269112\n 8  2020-07-09    OK    18495  17252.889953  17908.415893\n 9  2020-07-10    OK    19092  17641.988836  18427.606593\n 10 2020-07-11    OK    19779  18031.087720  18959.075239\n 11 2020-07-12    OK    20235  18420.186603  19503.060315\n 12 2020-07-13    OK    20745  18809.285487  20059.804834\n 13 2020-07-14    OK    21739  19198.384371  20629.556427,\n 'OR':          date state  actuals       sarimax   sarimaxExog\n 0  2020-07-01    OR     8931   8846.193807   8861.104287\n 1  2020-07-02    OR     9294   9036.387614   9070.116645\n 2  2020-07-03    OR     9636   9226.581421   9283.092371\n 3  2020-07-04    OR     9930   9416.775229   9500.087219\n 4  2020-07-05    OR    10230   9606.969036   9721.157391\n 5  2020-07-06    OR    10395   9797.162843   9946.359533\n 6  2020-07-07    OR    10605   9987.356650  10175.750719\n 7  2020-07-08    OR    10817  10177.550457  10409.388445\n 8  2020-07-09    OR    11184  10367.744264  10647.330618\n 9  2020-07-10    OR    11452  10557.938071  10889.635541\n 10 2020-07-11    OR    11849  10748.131878  11136.361904\n 11 2020-07-12    OR    12169  10938.325686  11387.568771\n 12 2020-07-13    OR    12437  11128.519493  11643.315565\n 13 2020-07-14    OR    12805  11318.713300  11903.662054,\n 'PA':          date state  actuals       sarimax   sarimaxExog\n 0  2020-07-01    PA    87240  87219.381356  87214.872043\n 1  2020-07-02    PA    88072  87837.044494  87825.166481\n 2  2020-07-03    PA    88739  88452.719378  88429.614654\n 3  2020-07-04    PA    89371  89070.126747  89033.190418\n 4  2020-07-05    PA    89854  89686.024498  89631.945942\n 5  2020-07-06    PA    90304  90303.237669  90229.661519\n 6  2020-07-07    PA    91299  90919.304636  90823.382582\n 7  2020-07-08    PA    92148  91536.370360  91415.985322\n 8  2020-07-09    PA    92866  92152.565807  92005.261668\n 9  2020-07-10    PA    93876  92769.519578  92593.402576\n 10 2020-07-11    PA    94688  93385.812576  93178.760624\n 11 2020-07-12    PA    95266  94002.681345  93763.007074\n 12 2020-07-13    PA    95741  94619.048410  94344.915233\n 13 2020-07-14    PA    96671  95235.852641  94925.761917,\n 'RI':          date state  actuals       sarimax   sarimaxExog\n 0  2020-07-01    RI    16853  16838.421127  16841.891140\n 1  2020-07-02    RI    16941  16876.180663  16879.255912\n 2  2020-07-03    RI    16991  16917.107094  16917.767370\n 3  2020-07-04    RI    16991  16958.033524  16955.813670\n 4  2020-07-05    RI    16991  16998.959954  16993.431526\n 5  2020-07-06    RI    16991  17039.886384  17030.654802\n 6  2020-07-07    RI    17154  17080.812814  17067.514723\n 7  2020-07-08    RI    17204  17121.739244  17104.040077\n 8  2020-07-09    RI    17243  17162.665675  17140.257399\n 9  2020-07-10    RI    17312  17203.592105  17176.191143\n 10 2020-07-11    RI    17312  17244.518535  17211.863843\n 11 2020-07-12    RI    17312  17285.444965  17247.296258\n 12 2020-07-13    RI    17487  17326.371395  17282.507511\n 13 2020-07-14    RI    17588  17367.297825  17317.515216,\n 'SC':          date state  actuals       sarimax   sarimaxExog\n 0  2020-07-01    SC    37809  37847.533481  37905.087758\n 1  2020-07-02    SC    39587  39398.066963  39575.203819\n 2  2020-07-03    SC    41413  40948.600444  41309.340495\n 3  2020-07-04    SC    43260  42499.133925  43109.554089\n 4  2020-07-05    SC    44717  44049.667407  44977.966950\n 5  2020-07-06    SC    46246  45600.200888  46916.769594\n 6  2020-07-07    SC    47214  47150.734369  48928.222891\n 7  2020-07-08    SC    48770  48701.267851  51014.660331\n 8  2020-07-09    SC    50547  50251.801332  53178.490347\n 9  2020-07-10    SC    52270  51802.334813  55422.198731\n 10 2020-07-11    SC    54538  53352.868295  57748.351113\n 11 2020-07-12    SC    56485  54903.401776  60159.595527\n 12 2020-07-13    SC    58003  56453.935257  62658.665055\n 13 2020-07-14    SC    60220  58004.468739  65248.380563,\n 'SD':          date state  actuals      sarimax  sarimaxExog\n 0  2020-07-01    SD     6825  6816.237475  6805.672098\n 1  2020-07-02    SD     6893  6870.720595  6843.022897\n 2  2020-07-03    SD     6977  6925.897190  6876.886545\n 3  2020-07-04    SD     7026  6981.459855  6908.386840\n 4  2020-07-05    SD     7061  7037.237453  6938.216987\n 5  2020-07-06    SD     7103  7093.134709  6966.808961\n 6  2020-07-07    SD     7163  7149.098580  6994.436058\n 7  2020-07-08    SD     7242  7205.099537  7021.274976\n 8  2020-07-09    SD     7335  7261.121140  7047.443427\n 9  2020-07-10    SD     7398  7317.154238  7073.022907\n 10 2020-07-11    SD     7453  7373.193735  7098.072508\n 11 2020-07-12    SD     7495  7429.236795  7122.637290\n 12 2020-07-13    SD     7520  7485.281838  7146.753365\n 13 2020-07-14    SD     7572  7541.327985  7170.450997,\n 'TN':          date state  actuals       sarimax   sarimaxExog\n 0  2020-07-01    TN    44271  43492.440399  43466.280669\n 1  2020-07-02    TN    45881  44427.880798  44372.817414\n 2  2020-07-03    TN    47640  45363.321198  45276.481508\n 3  2020-07-04    TN    48974  46298.761597  46177.149827\n 4  2020-07-05    TN    50246  47234.201996  47074.704999\n 5  2020-07-06    TN    50955  48169.642395  47969.035532\n 6  2020-07-07    TN    52417  49105.082795  48860.035922\n 7  2020-07-08    TN    54756  50040.523194  49747.606738\n 8  2020-07-09    TN    56333  50975.963593  50631.654681\n 9  2020-07-10    TN    58146  51911.403992  51512.092633\n 10 2020-07-11    TN    59611  52846.844391  52388.839673\n 11 2020-07-12    TN    60544  53782.284791  53261.821080\n 12 2020-07-13    TN    63612  54717.725190  54130.968319\n 13 2020-07-14    TN    65051  55653.165589  54996.218999,\n 'TX':          date state  actuals        sarimax sarimaxExog\n 0  2020-07-01    TX   168025  165851.452132        None\n 1  2020-07-02    TX   175941  171763.904264        None\n 2  2020-07-03    TX   183491  177676.356396        None\n 3  2020-07-04    TX   191755  183588.808529        None\n 4  2020-07-05    TX   195198  189501.260661        None\n 5  2020-07-06    TX   200516  195413.712793        None\n 6  2020-07-07    TX   210536  201326.164925        None\n 7  2020-07-08    TX   220512  207238.617057        None\n 8  2020-07-09    TX   230301  213151.069189        None\n 9  2020-07-10    TX   240102  219063.521321        None\n 10 2020-07-11    TX   250454  224975.973453        None\n 11 2020-07-12    TX   258656  230888.425586        None\n 12 2020-07-13    TX   264311  236800.877718        None\n 13 2020-07-14    TX   275058  242713.329850        None,\n 'UT':          date state  actuals       sarimax   sarimaxExog\n 0  2020-07-01    UT    22818  22933.246954  22987.641178\n 1  2020-07-02    UT    23375  23484.693017  23607.645797\n 2  2020-07-03    UT    23942  24046.439849  24244.181407\n 3  2020-07-04    UT    24637  24607.045594  24896.254276\n 4  2020-07-05    UT    25049  25166.177896  25563.211383\n 5  2020-07-06    UT    25574  25725.914923  26245.586074\n 6  2020-07-07    UT    26140  26285.740875  26943.694873\n 7  2020-07-08    UT    26857  26845.437300  27657.778756\n 8  2020-07-09    UT    27519  27405.154030  28388.112655\n 9  2020-07-10    UT    28385  27964.887645  29134.974699\n 10 2020-07-11    UT    29025  28524.613075  29898.640522\n 11 2020-07-12    UT    29649  29084.337832  30679.386799\n 12 2020-07-13    UT    30248  29644.064196  31477.490963\n 13 2020-07-14    UT    30710  30203.790233  32293.230635,\n 'VT':          date state  actuals      sarimax  sarimaxExog\n 0  2020-07-01    VT     1210  1210.400477  1209.835794\n 1  2020-07-02    VT     1227  1212.714922  1211.420436\n 2  2020-07-03    VT     1236  1214.946417  1212.788311\n 3  2020-07-04    VT     1238  1217.097936  1213.969095\n 4  2020-07-05    VT     1249  1219.172346  1214.988398\n 5  2020-07-06    VT     1251  1221.172408  1215.868323\n 6  2020-07-07    VT     1253  1223.100789  1216.627944\n 7  2020-07-08    VT     1256  1224.960058  1217.283725\n 8  2020-07-09    VT     1272  1226.752690  1217.849875\n 9  2020-07-10    VT     1277  1228.481075  1218.338656\n 10 2020-07-11    VT     1283  1230.147515  1218.760652\n 11 2020-07-12    VT     1296  1231.754230  1219.125000\n 12 2020-07-13    VT     1301  1233.303361  1219.439583\n 13 2020-07-14    VT     1305  1234.796971  1219.711206,\n 'VA':          date state  actuals       sarimax   sarimaxExog\n 0  2020-07-01    VA    51774  51893.254401  51770.043594\n 1  2020-07-02    VA    52149  52312.508802  52056.462980\n 2  2020-07-03    VA    52651  52731.763202  52333.698674\n 3  2020-07-04    VA    53152  53151.017603  52602.179063\n 4  2020-07-05    VA    53639  53570.272004  52862.319758\n 5  2020-07-06    VA    53866  53989.526405  53114.523101\n 6  2020-07-07    VA    54300  54408.780805  53359.177810\n 7  2020-07-08    VA    54716  54828.035206  53596.658748\n 8  2020-07-09    VA    55707  55247.289607  53827.326789\n 9  2020-07-10    VA    56205  55666.544008  54051.528795\n 10 2020-07-11    VA    56773  56085.798409  54269.597662\n 11 2020-07-12    VA    57376  56505.052809  54481.852446\n 12 2020-07-13    VA    57939  56924.307210  54688.598544\n 13 2020-07-14    VA    58567  57343.561611  54890.127935,\n 'WA':          date state  actuals       sarimax   sarimaxExog\n 0  2020-07-01    WA    33435  33310.872200  33312.029329\n 1  2020-07-02    WA    34151  33817.616317  33820.400455\n 2  2020-07-03    WA    34775  34307.544736  34312.281899\n 3  2020-07-04    WA    35247  34812.456672  34819.595447\n 4  2020-07-05    WA    35898  35304.017644  35313.890824\n 5  2020-07-06    WA    36985  35807.474905  35820.511885\n 6  2020-07-07    WA    37416  36300.332055  36316.868775\n 7  2020-07-08    WA    37941  36802.634365  36823.082623\n 8  2020-07-09    WA    38581  37296.520627  37321.216552\n 9  2020-07-10    WA    39218  37797.905953  37827.244969\n 10 2020-07-11    WA    39218  38292.609288  38326.925307\n 11 2020-07-12    WA    40656  38793.266567  38832.939576\n 12 2020-07-13    WA    41757  39288.618623  39333.978372\n 13 2020-07-14    WA    42304  39788.697863  39840.109632,\n 'WV':          date state  actuals      sarimax  sarimaxExog\n 0  2020-07-01    WV     2932  2929.291622  2929.001508\n 1  2020-07-02    WV     3006  2968.058666  2967.390527\n 2  2020-07-03    WV     3077  3011.683945  3010.609192\n 3  2020-07-04    WV     3141  3051.036962  3049.477380\n 4  2020-07-05    WV     3260  3094.146945  3092.069968\n 5  2020-07-06    WV     3352  3133.953106  3131.288555\n 6  2020-07-07    WV     3458  3176.664601  3173.377489\n 7  2020-07-08    WV     3615  3216.821187  3212.848090\n 8  2020-07-09    WV     3877  3259.224523  3254.529204\n 9  2020-07-10    WV     3981  3299.652099  3294.176890\n 10 2020-07-11    WV     4074  3341.817130  3335.525420\n 11 2020-07-12    WV     4207  3382.454268  3375.293361\n 12 2020-07-13    WV     4315  3424.435014  3416.368574\n 13 2020-07-14    WV     4463  3465.234210  3456.213891,\n 'WI':          date state  actuals       sarimax   sarimaxExog\n 0  2020-07-01    WI    29199  29223.965192  29216.418507\n 1  2020-07-02    WI    29738  29780.580416  29761.514099\n 2  2020-07-03    WI    30315  30301.574851  30269.616263\n 3  2020-07-04    WI    31053  30793.946817  30748.817052\n 4  2020-07-05    WI    31577  31217.213098  31157.940756\n 5  2020-07-06    WI    32061  31713.597533  31640.752911\n 6  2020-07-07    WI    32556  32246.543306  32156.882125\n 7  2020-07-08    WI    33154  32796.676411  32686.534915\n 8  2020-07-09    WI    33905  33327.781669  33194.474745\n 9  2020-07-10    WI    34750  33837.072461  33679.485448\n 10 2020-07-11    WI    35679  34308.833139  34125.920751\n 11 2020-07-12    WI    36448  34791.483411  34583.248116\n 12 2020-07-13    WI    36941  35298.416065  35063.564615\n 13 2020-07-14    WI    37906  35827.883529  35564.163294,\n 'WY':          date state  actuals      sarimax  sarimaxExog\n 0  2020-07-01    WY     1517  1511.532230  1502.081667\n 1  2020-07-02    WY     1550  1537.064459  1517.931575\n 2  2020-07-03    WY     1582  1562.596689  1533.544989\n 3  2020-07-04    WY     1606  1588.128919  1548.917577\n 4  2020-07-05    WY     1634  1613.661149  1564.045406\n 5  2020-07-06    WY     1675  1639.193378  1578.924936\n 6  2020-07-07    WY     1709  1664.725608  1593.553020\n 7  2020-07-08    WY     1739  1690.257838  1607.926892\n 8  2020-07-09    WY     1767  1715.790067  1622.044167\n 9  2020-07-10    WY     1790  1741.322297  1635.902827\n 10 2020-07-11    WY     1839  1766.854527  1649.501217\n 11 2020-07-12    WY     1862  1792.386757  1662.838034\n 12 2020-07-13    WY     1903  1817.918986  1675.912318\n 13 2020-07-14    WY     1950  1843.451216  1688.723439}"
     },
     "metadata": {},
     "execution_count": 4
    }
   ],
   "source": [
    "def GenerateComparisonState():\n",
    "    counter = 0\n",
    "    countryLen = len(df.state.unique())\n",
    "    modelsDict = dict() #initialize a dicitionary to add dataframes to with key as the country name\n",
    "    for country in df.state.unique(): #Should rename country variable to state but keeping for now\n",
    "        if counter < 500: #arbritray value so all states run\n",
    "            \n",
    "            #Generates a df template with date index to append predictions to\n",
    "            timeDeltaObjectEnd = datetime.datetime.strptime(\"2020-07-14\", \"%Y-%m-%d\")\n",
    "            timeDeltaObjectStart = datetime.datetime.strptime(\"2020-07-01\", \"%Y-%m-%d\")#df.index[len(df)-1] #gets last date in df var\n",
    "            dateTimeDelta = timeDeltaObjectEnd - timeDeltaObjectStart\n",
    "            dateTimeDeltaInt = dateTimeDelta.days\n",
    "            compareDates = pd.date_range(start=\"2020-07-01\", end=\"2020-07-14\") #creates ranges of dates from start-end+delta\n",
    "            modelsCompareDfAppend = pd.DataFrame(compareDates, columns=[\"date\"]) #.set_index(\"date\")\n",
    "            modelsCompareDf = modelsCompareDfAppend\n",
    "            #End of df template creation\n",
    "\n",
    "            #modelsCompareDf['country'] = country\n",
    "            counter = counter + 1\n",
    "\n",
    "            ModelGenerator = CovidModels.HackathonModels(df, country)\n",
    "\n",
    "            countryDF = ModelGenerator.getstatedf(fields=['date','total_cases']).asfreq('D').fillna(0)\n",
    "            #varDF = ModelGenerator.getcountrydf(fields=['date','total_cases','stringency_index']).asfreq('D').fillna(0) N/A model for states\n",
    "        \n",
    "            #countryDF = countryDF.loc[:'2020-06-30'] #Limits date for backtesting purposes\n",
    "            #varDF = varDF.loc[:'2020-06-30'] #Limits date for backtesting purposes\n",
    "            modelsCompareDf['state'] = country\n",
    "            try:\n",
    "                backTestDF = countryDF.loc['2020-07-01':'2020-07-14']\n",
    "                modelsCompareDf['actuals'] = backTestDF.total_cases.values.flatten()\n",
    "            except:\n",
    "                print('backtest error')\n",
    "                modelsCompareDf['actuals'] = None\n",
    "            \n",
    "            countryDF = countryDF.loc[:'2020-06-30'] #Limits date for backtesting purposes\n",
    "            #varDF = varDF.loc[:'2020-06-30'] #Limits date for backtesting purposes N/A model for states\n",
    "            \n",
    "            try:\n",
    "                print('Running SARIMAX on ' + str(country))\n",
    "                sarimaxDF = ModelGenerator.run_sarimax(countryDF,\"2020-07-14\")[0] #returns a DF of predicted cases and original \n",
    "                modelsCompareDf['sarimax'] = sarimaxDF.loc['2020-07-01':'2020-07-14'].new_cases_predict.values.flatten()\n",
    "            except:\n",
    "                print(\"sarimax error\")\n",
    "                modelsCompareDf['sarimax'] = None\n",
    "\n",
    "            try:\n",
    "                print('Running SARIMAX exog on' + str(country))\n",
    "                exogDF = ModelGenerator.getSigmoidFit(countryDF, \"2020-07-14\")\n",
    "                sarimaxDFExog = ModelGenerator.run_sarimax_exog(countryDF,exogDF, '2020-07-14')[0]\n",
    "                modelsCompareDf['sarimaxExog'] = sarimaxDFExog.loc['2020-07-01':'2020-07-14'].new_cases_predict.values.flatten()\n",
    "            except:\n",
    "                print(\"sarimax exog error\")\n",
    "                modelsCompareDf['sarimaxExog'] = None\n",
    "\n",
    "#VAR model N/A for states\n",
    "###\n",
    "#            try:\n",
    "#                print('Running VAR on ' + str(country))\n",
    "#                varDF = ModelGenerator.run_VAR_MAVGStringency_tc(varDF, 13) #predicts 14 days forward\n",
    "#                modelsCompareDf['VAR'] = varDF.loc['2020-07-01':'2020-07-14'].total_cases_predict.values.flatten()                \n",
    "#            except:        \n",
    "#                print(\"VAR error\")\n",
    "#                modelsCompareDf['VAR'] = None\n",
    "###\n",
    "\n",
    "            print(str(countryLen-counter) + \" remaining\")\n",
    "\n",
    "\n",
    "            modelsDict[country] = modelsCompareDf\n",
    "            #Pickles the latest dictionary in case function breaks unexpectdly\n",
    "            with open(\"C:\\\\Users\\\\dylan.levine\\\\Development\\\\Covid Hackathon\\\\BacktestPersistedData\\\\stateinprogressdict.pk1\", 'wb') as handle:\n",
    "                pickle.dump(modelsDict, handle, protocol=pickle.HIGHEST_PROTOCOL)\n",
    "\n",
    "    return modelsDict\n",
    "        \n",
    "dfCompareState = GenerateComparisonState()\n",
    "dfCompareState"
   ]
  },
  {
   "cell_type": "markdown",
   "metadata": {},
   "source": [
    "### Persist back test data for States"
   ]
  },
  {
   "cell_type": "code",
   "execution_count": 35,
   "metadata": {},
   "outputs": [],
   "source": [
    "dfCompareState\n",
    "\n",
    "#iterates through the dictionary returned from dfCompareState and returns as a list\n",
    "df_list_state = [v for k,v in dfCompareState.items()] \n",
    "\n",
    "#Converts the list of DFs into a single combined DF\n",
    "combinedDF_state = pd.concat(df_list_state,axis=0)\n",
    "\n",
    "combinedDF_state.to_pickle(\"C:\\\\Users\\\\dylan.levine\\\\Development\\\\Covid Hackathon\\\\BacktestPersistedData\\\\stateBacktestDF.pk1\")\n",
    "combinedDF_state.to_csv(\"C:\\\\Users\\\\dylan.levine\\\\Development\\\\Covid Hackathon\\\\BacktestPersistedData\\\\stateBacktestDF.csv\")\n",
    "\n",
    "\n",
    "#newCombed_state = pd.read_pickle(\"C:\\\\Users\\\\dylan.levine\\\\Development\\\\Covid Hackathon\\\\BacktestPersistedData\\\\stateBacktestDF.pk1\")\n",
    "#newCombed\n",
    "#Example on how to load the inprogress pickle (represents the latest value in dictionary loop)\n",
    "#with open(\"C:\\\\Users\\\\dylan.levine\\\\Development\\\\Covid Hackathon\\\\BacktestPersistedData\\\\stateinprogressdict.pk1\", 'rb') as handle:\n",
    "#    pickle_state = pickle.load(handle)\n",
    "\n"
   ]
  },
  {
   "cell_type": "code",
   "execution_count": null,
   "metadata": {},
   "outputs": [],
   "source": [
    "#Note: Model backtested well for states, but this model relies on a curve being on a significant rise, which qualitatively may not be happening for the states as significantly as during the period from 7/1 through 7/14.\n",
    "def getPolyFitStates():\n",
    "    print(state)\n",
    "    count = count + 1\n",
    "    try:\n",
    "        ModelGenerator = CovidModels.HackathonModels(df, state) #creates a HackathonModels object for FL\n",
    "        stateDF_new = ModelGenerator.getstatedf(fields=['date','new_cases']).asfreq('D').fillna(0)\n",
    "        stateDF_new = stateDF_new[:\"2020-06-30\"]\n",
    "        exogDF = ModelGenerator.getPolynomialFit(stateDF_new, \"2020-07-14\") #4th degree polynomial fitting to historical data\n",
    "        statePred = ModelGenerator.run_sarimax_exog(stateDF_new,exogDF, \"2020-07-14\")[0]\n",
    "\n",
    "        #Gets a DF of total cases for state var\n",
    "        stateDF_total = ModelGenerator.getstatedf(fields=['date','total_cases']).asfreq('D').fillna(0)\n",
    "        \n",
    "        #cleans data to set <7/14 \n",
    "        statePred = statePred.fillna(0)\n",
    "        statePred['new_cases_predict'][:'2020-06-30'] = 0\n",
    "        statePred['new_cases_predict'] = statePred['new_cases_predict'] + statePred['new_cases']\n",
    "        statePred['sarimax_exog_4dpoly'] = statePred.new_cases_predict.values.cumsum()\n",
    "        statePred = statePred.merge(stateDF_total,how=\"left\", right_index=True, left_index=True)\n",
    "        statePred = statePred[['total_cases', 'sarimax_exog_4dpoly']]\n",
    "        statePred[\"state\"] = state \n",
    "        modelsDict[state] = statePred['2020-07-01':'2020-07-14']\n",
    "        #statePred.to_csv('test.csv')\n",
    "        #statePred[['cumsumpred', 'total_cases']].to_csv('test.csv')\n",
    "        print(str(countryLen-count) + \" remaining\")\n",
    "    except:\n",
    "        modelsDict[state] = None\n",
    "\n",
    "    return modelsDict\n",
    "\n",
    "\n",
    "predictDict = getPolyFitStates()\n",
    "predictDict\n",
    "\n",
    "df_list = [v for k,v in predictDict.items()] \n",
    "\n",
    "#Creates a combined DF from the combined list of DFs\n",
    "combinedDF = pd.concat(df_list ,axis=0)\n",
    "\n",
    "combinedDF.to_csv(\"C:\\\\Users\\\\dylan.levine\\\\Development\\\\Covid Hackathon\\\\BacktestPersistedData\\\\ARIMA4dExog.csv\")\n",
    "combinedDF"
   ]
  },
  {
   "cell_type": "markdown",
   "metadata": {},
   "source": [
    "### Loads the persisted backtest dataframes into a new variable. Persisting the backtests allows you to work on the data without reperforming the backtests."
   ]
  },
  {
   "cell_type": "code",
   "execution_count": 14,
   "metadata": {},
   "outputs": [],
   "source": [
    "import pandas as pd\n",
    "#Loads the pickled dataframes for ARIMA, ARIMA with log exog, and VAr\n",
    "newCombed_country = pd.read_pickle(\"C:\\\\Users\\\\dylan.levine\\\\Development\\\\Covid Hackathon\\\\BacktestPersistedData\\\\BacktestDF.pk1\")\n",
    "#newCombed_state = pd.read_pickle(\"C:\\\\Users\\\\dylan.levine\\\\Development\\\\Covid Hackathon\\\\BacktestPersistedData\\\\stateBacktestDF.pk1\")\n",
    "\n",
    "#Loads the CSV files for the LSTM model, this model was ran in a separate file\n",
    "LSTM_country = pd.read_csv(\"C:\\\\Users\\\\dylan.levine\\\\Development\\\\Covid Hackathon\\\\BacktestPersistedData\\\\lstm_countries_without_early_stopping.csv\")\n",
    "#LSTM_state = pd.read_csv(\"C:\\\\Users\\\\dylan.levine\\\\Development\\\\Covid Hackathon\\\\BacktestPersistedData\\\\lstm_states_orig_model.csv\")\n",
    "\n",
    "#Mapping of prediction steps to dates for mergekey\n",
    "stepCountMapping = {0:\"2020-07-01\",\n",
    "    1:\"2020-07-02\",\n",
    "    2:\"2020-07-03\",\n",
    "    3:\"2020-07-04\",\n",
    "    4:\"2020-07-05\",\n",
    "    5:\"2020-07-06\",\n",
    "    6:\"2020-07-07\",\n",
    "    7:\"2020-07-08\",\n",
    "    8:\"2020-07-09\",\n",
    "    9:\"2020-07-10\",\n",
    "    10:\"2020-07-11\",\n",
    "    11:\"2020-07-12\",\n",
    "    12:\"2020-07-13\",\n",
    "    13:\"2020-07-14\"\n",
    "    }\n",
    "\n",
    "#Replaces the step count with dates for matching\n",
    "LSTM_country.StepCount.replace(stepCountMapping, inplace=True)\n",
    "LSTM_country.rename(columns={\"prediction\":\"LSTM_Full\"}, inplace=True)\n",
    "#LSTM_state.StepCount.replace(stepCountMapping, inplace=True)\n",
    "#LSTM_state.rename(columns={\"prediction\":\"LSTM_Full\"}, inplace=True)\n",
    "\n",
    "#Creates a key to map predictions to other models\n",
    "LSTM_country['mergekey'] = LSTM_country['StepCount'] + \"-\" + LSTM_country['region']\n",
    "#LSTM_state['mergekey'] = LSTM_state['StepCount'] + \"-\" + LSTM_state['region']\n",
    "\n",
    "#Removes uneeded columns\n",
    "LSTM_country = LSTM_country[['LSTM_Full', 'mergekey']]\n",
    "#LSTM_state = LSTM_state[['LSTM_Full', 'mergekey']]\n",
    "#LSTM_state\n",
    "\n",
    "#Helper function for calculating residual squared, to consider refactoring, but works for now\n",
    "def ResidualsCalc(field1, field2):\n",
    "    residualSquared = (field1 - field2) ** 2\n",
    "    return residualSquared\n",
    "\n",
    "\n",
    "#newCombed_state"
   ]
  },
  {
   "cell_type": "markdown",
   "metadata": {},
   "source": [
    "### Calculates the RMSE, and selects the smallest RMSE out of the models performed"
   ]
  },
  {
   "cell_type": "code",
   "execution_count": 158,
   "metadata": {},
   "outputs": [],
   "source": [
    "#Calculate RSME for states\n",
    "\n",
    "newCombed_state['mergekey'] = newCombed_state['date'].dt.strftime(\"%Y-%m-%d\") + \"-\" + newCombed_state['state']\n",
    "newCombed_state = newCombed_state.merge(LSTM_state, right_on='mergekey', left_on='mergekey')\n",
    "\n",
    "newCombed_state['sarimax_rsm'] = ResidualsCalc(newCombed_state.actuals,newCombed_state.sarimax) #((newCombed_state.actuals - newCombed_state.sarimax) ** 2)/14\n",
    "newCombed_state['sarimaxExog_rsm'] = ResidualsCalc(newCombed_state.actuals, newCombed_state.sarimaxExog) #(newCombed_state.actuals - newCombed_state.sarimaxExog) ** 2\n",
    "newCombed_state['LSTM_Full_rsm'] = ResidualsCalc(newCombed_state.actuals, newCombed_state.LSTM_Full) #\n",
    "\n",
    "newCombed_state.to_csv(\"C:\\\\Users\\\\dylan.levine\\\\Development\\\\Covid Hackathon\\\\BacktestPersistedData\\\\RSMEStates_Validation.csv\") #correct up to here\n",
    "\n",
    "\n",
    "\n",
    "newCombedRSMState = newCombed_state.groupby('state')['sarimax_rsm', 'sarimaxExog_rsm', 'LSTM_Full_rsm'].sum() #sum of residuals squared\n",
    "\n",
    "newCombedRSMState['sarimax_RMSE'] = (newCombedRSMState.sarimax_rsm/14) ** .5 #to 1/2 equals sqrt\n",
    "newCombedRSMState['sarimaxExog_RMSE'] = (newCombedRSMState.sarimaxExog_rsm/14) ** .5 #to 1/2 equals sqrt\n",
    "newCombedRSMState['LSTM_Full_RMSE'] = (newCombedRSMState.sarimaxExog_rsm/14) ** .5 #to 1/2 equals sqrt\n",
    "#newCombedRSM['sarimax_RMSE'] = newCombedRSM.sarimax_rsm ** .5#to 1/2 equals sqrt\n",
    "#newCombedRSM['sarimaxExog_RMSE'] = newCombedRSM.sarimaxExog_rsm ** .5 #to 1/2 equals sqrt\n",
    "\n",
    "newCombedRSMState = newCombedRSMState[['sarimax_RMSE', 'sarimaxExog_RMSE', 'LSTM_Full_RMSE']]\n",
    "newCombedRSMState.loc[newCombedRSMState.sarimax_RMSE == 0, 'sarimax_RMSE'] = 999999999 #arbritrary large value, since 0 means model failed\n",
    "newCombedRSMState.loc[newCombedRSMState.sarimaxExog_RMSE == 0, 'sarimaxExog_RMSE'] = 999999999 #arbritrary large value, since 0 means model failed\n",
    "newCombedRSMState.loc[newCombedRSMState.LSTM_Full_RMSE == 0, 'LSTM_Full_RMSE'] = 999999999\n",
    "\n",
    "#Returns the smallest RMSE out of the models performed\n",
    "newCombedRSMState['BestModel'] = newCombedRSMState.idxmin(axis=1)\n",
    "\n",
    "#Sends data to CSV and pickles the data \n",
    "newCombedRSMState.to_csv(\"C:\\\\Users\\\\dylan.levine\\\\Development\\\\Covid Hackathon\\\\BacktestPersistedData\\\\RSMEStates.csv\")\n",
    "newCombedRSMState.to_pickle(\"C:\\\\Users\\\\dylan.levine\\\\Development\\\\Covid Hackathon\\\\BacktestPersistedData\\\\stateBackTestRMSEResults.pk1\")"
   ]
  },
  {
   "cell_type": "code",
   "execution_count": 15,
   "metadata": {
    "tags": []
   },
   "outputs": [],
   "source": [
    "#Calculate RMSE for countries\n",
    "newCombed_country['mergekey'] = newCombed_country['date'].dt.strftime(\"%Y-%m-%d\") + \"-\" + newCombed_country['country']\n",
    "newCombed_country = newCombed_country.merge(LSTM_country, right_on='mergekey', left_on='mergekey')\n",
    "\n",
    "#ResidualsCal function return the residual squared before taking a sum, averaging and sqrt.\n",
    "newCombed_country['sarimax_rsm'] = ResidualsCalc(newCombed_country.actuals, newCombed_country.sarimax) #((newCombed_state.actuals - newCombed_state.sarimax) ** 2)/14\n",
    "newCombed_country['sarimaxExog_rsm'] = ResidualsCalc(newCombed_country.actuals, newCombed_country.sarimaxExog) #(newCombed_state.actuals - newCombed_state.sarimaxExog) ** 2\n",
    "newCombed_country['var_rsm'] = ResidualsCalc(newCombed_country.actuals, newCombed_country.VAR) #\n",
    "newCombed_country['LSTM_Full_rsm'] = ResidualsCalc(newCombed_country.actuals, newCombed_country.LSTM_Full) #\n",
    "\n",
    "newCombed_country.to_csv(\"C:\\\\Users\\\\dylan.levine\\\\Development\\\\Covid Hackathon\\\\BacktestPersistedData\\\\RSMECountries_Validation.csv\") #correct up to here\n",
    "\n",
    "#Takes the sum of the residuals squared\n",
    "newCombedRSM = newCombed_country.groupby('country')['sarimax_rsm', 'sarimaxExog_rsm', 'var_rsm', 'LSTM_Full_rsm'].sum() #sum of residuals squared\n",
    "\n",
    "\n",
    "\n",
    "\n",
    "newCombedRSM['sarimax_RMSE'] = (newCombedRSM.sarimax_rsm/14) ** .5 #to 1/2 equals sqrt\n",
    "newCombedRSM['sarimaxExog_RMSE'] = (newCombedRSM.sarimaxExog_rsm/14) ** .5 #to 1/2 equals sqrt\n",
    "newCombedRSM['var_RMSE'] = (newCombedRSM.var_rsm/14) ** .5\n",
    "newCombedRSM['LSTM_Full_RMSE'] = (newCombedRSM.LSTM_Full_rsm/14) ** .5\n",
    "#newCombedRSM['sarimax_RMSE'] = newCombedRSM.sarimax_rsm ** .5#to 1/2 equals sqrt\n",
    "#newCombedRSM['sarimaxExog_RMSE'] = newCombedRSM.sarimaxExog_rsm ** .5 #to 1/2 equals sqrt\n",
    "\n",
    "newCombedRSM = newCombedRSM[['sarimax_RMSE', 'sarimaxExog_RMSE', 'var_RMSE', 'LSTM_Full_RMSE']]\n",
    "newCombedRSM.loc[newCombedRSM.sarimax_RMSE == 0, 'sarimax_RMSE'] = 999999999 #arbritrary large value, since 0 means model failed\n",
    "newCombedRSM.loc[newCombedRSM.sarimaxExog_RMSE == 0, 'sarimaxExog_RMSE'] = 999999999 #arbritrary large value, since 0 means model failed\n",
    "newCombedRSM.loc[newCombedRSM.var_RMSE == 0, 'var_RMSE'] = 999999999 #arbritrary large value, since 0 means model failed\n",
    "newCombedRSM.loc[newCombedRSM.LSTM_Full_RMSE == 0, 'LSTM_Full_RMSE'] = 999999999 #arbritrary large value, since 0 means model failed\n",
    "\n",
    "\n",
    "#Returns the smallest RMSE out of the models performed\n",
    "newCombedRSM['BestModel'] = newCombedRSM.idxmin(axis=1)\n",
    "\n",
    "\n",
    "#newCombedRSM\n",
    "newCombedRSM.to_csv(\"C:\\\\Users\\\\dylan.levine\\\\Development\\\\Covid Hackathon\\\\BacktestPersistedData\\\\RSMECountries.csv\")\n",
    "newCombedRSM.to_pickle(\"C:\\\\Users\\\\dylan.levine\\\\Development\\\\Covid Hackathon\\\\BacktestPersistedData\\\\countryBackTestRMSEResults.pk1\")"
   ]
  },
  {
   "cell_type": "code",
   "execution_count": 128,
   "metadata": {},
   "outputs": [
    {
     "output_type": "execute_result",
     "data": {
      "text/plain": "           date      country      actuals       sarimax  sarimaxExog  \\\n0    2020-07-01  Afghanistan        31517  3.149732e+04      31508.6   \n1    2020-07-02  Afghanistan        31836  3.170468e+04        31733   \n2    2020-07-03  Afghanistan        32022  3.192795e+04      31956.3   \n3    2020-07-04  Afghanistan        32324  3.216873e+04      32182.5   \n4    2020-07-05  Afghanistan        32672  3.237010e+04      32381.2   \n...         ...          ...          ...           ...          ...   \n2935 2020-07-10        World  1.22463e+07  1.191674e+07  1.19005e+07   \n2936 2020-07-11        World  1.24763e+07  1.208147e+07  1.20621e+07   \n2937 2020-07-12        World  1.26945e+07  1.224620e+07  1.22235e+07   \n2938 2020-07-13        World  1.28898e+07  1.241092e+07  1.23845e+07   \n2939 2020-07-14        World  1.30799e+07  1.257565e+07  1.25453e+07   \n\n              VAR                mergekey   LSTM_Full_x  sarimax_rsm  \\\n0           31501  2020-07-01-Afghanistan  3.446765e+04      387.385   \n1           31765  2020-07-02-Afghanistan  3.578245e+04      17245.1   \n2           32054  2020-07-03-Afghanistan  3.696324e+04      8845.55   \n3           32324  2020-07-04-Afghanistan  3.828904e+04      24110.3   \n4           32598  2020-07-05-Afghanistan  3.952303e+04      91145.9   \n...           ...                     ...           ...          ...   \n2935  1.22452e+07        2020-07-10-World  1.310346e+07  1.08597e+11   \n2936  1.24623e+07        2020-07-11-World  1.333688e+07  1.55916e+11   \n2937  1.26705e+07        2020-07-12-World  1.356634e+07  2.00984e+11   \n2938  1.28687e+07        2020-07-13-World  1.380779e+07  2.29313e+11   \n2939  1.30722e+07        2020-07-14-World  1.408219e+07   2.5425e+11   \n\n     sarimaxExog_rsm      var_rsm   LSTM_Full_y   LSTM_Full_x   LSTM_Full_y  \n0            69.9307          256  3.446765e+04  3.446765e+04  3.446765e+04  \n1            10608.8         5041  3.578245e+04  3.578245e+04  3.578245e+04  \n2            4320.55         1024  3.696324e+04  3.696324e+04  3.696324e+04  \n3            20034.6            0  3.828904e+04  3.828904e+04  3.828904e+04  \n4              84579         5476  3.952303e+04  3.952303e+04  3.952303e+04  \n...              ...          ...           ...           ...           ...  \n2935     1.19548e+11   1.0816e+06  1.310346e+07  1.310346e+07  1.310346e+07  \n2936     1.71564e+11  1.98162e+08  1.333688e+07  1.333688e+07  1.333688e+07  \n2937     2.21891e+11  5.78114e+08  1.356634e+07  1.356634e+07  1.356634e+07  \n2938     2.55312e+11   4.4559e+08  1.380779e+07  1.380779e+07  1.380779e+07  \n2939     2.85801e+11  5.94441e+07  1.408219e+07  1.408219e+07  1.408219e+07  \n\n[2940 rows x 14 columns]",
      "text/html": "<div>\n<style scoped>\n    .dataframe tbody tr th:only-of-type {\n        vertical-align: middle;\n    }\n\n    .dataframe tbody tr th {\n        vertical-align: top;\n    }\n\n    .dataframe thead th {\n        text-align: right;\n    }\n</style>\n<table border=\"1\" class=\"dataframe\">\n  <thead>\n    <tr style=\"text-align: right;\">\n      <th></th>\n      <th>date</th>\n      <th>country</th>\n      <th>actuals</th>\n      <th>sarimax</th>\n      <th>sarimaxExog</th>\n      <th>VAR</th>\n      <th>mergekey</th>\n      <th>LSTM_Full_x</th>\n      <th>sarimax_rsm</th>\n      <th>sarimaxExog_rsm</th>\n      <th>var_rsm</th>\n      <th>LSTM_Full_y</th>\n      <th>LSTM_Full_x</th>\n      <th>LSTM_Full_y</th>\n    </tr>\n  </thead>\n  <tbody>\n    <tr>\n      <th>0</th>\n      <td>2020-07-01</td>\n      <td>Afghanistan</td>\n      <td>31517</td>\n      <td>3.149732e+04</td>\n      <td>31508.6</td>\n      <td>31501</td>\n      <td>2020-07-01-Afghanistan</td>\n      <td>3.446765e+04</td>\n      <td>387.385</td>\n      <td>69.9307</td>\n      <td>256</td>\n      <td>3.446765e+04</td>\n      <td>3.446765e+04</td>\n      <td>3.446765e+04</td>\n    </tr>\n    <tr>\n      <th>1</th>\n      <td>2020-07-02</td>\n      <td>Afghanistan</td>\n      <td>31836</td>\n      <td>3.170468e+04</td>\n      <td>31733</td>\n      <td>31765</td>\n      <td>2020-07-02-Afghanistan</td>\n      <td>3.578245e+04</td>\n      <td>17245.1</td>\n      <td>10608.8</td>\n      <td>5041</td>\n      <td>3.578245e+04</td>\n      <td>3.578245e+04</td>\n      <td>3.578245e+04</td>\n    </tr>\n    <tr>\n      <th>2</th>\n      <td>2020-07-03</td>\n      <td>Afghanistan</td>\n      <td>32022</td>\n      <td>3.192795e+04</td>\n      <td>31956.3</td>\n      <td>32054</td>\n      <td>2020-07-03-Afghanistan</td>\n      <td>3.696324e+04</td>\n      <td>8845.55</td>\n      <td>4320.55</td>\n      <td>1024</td>\n      <td>3.696324e+04</td>\n      <td>3.696324e+04</td>\n      <td>3.696324e+04</td>\n    </tr>\n    <tr>\n      <th>3</th>\n      <td>2020-07-04</td>\n      <td>Afghanistan</td>\n      <td>32324</td>\n      <td>3.216873e+04</td>\n      <td>32182.5</td>\n      <td>32324</td>\n      <td>2020-07-04-Afghanistan</td>\n      <td>3.828904e+04</td>\n      <td>24110.3</td>\n      <td>20034.6</td>\n      <td>0</td>\n      <td>3.828904e+04</td>\n      <td>3.828904e+04</td>\n      <td>3.828904e+04</td>\n    </tr>\n    <tr>\n      <th>4</th>\n      <td>2020-07-05</td>\n      <td>Afghanistan</td>\n      <td>32672</td>\n      <td>3.237010e+04</td>\n      <td>32381.2</td>\n      <td>32598</td>\n      <td>2020-07-05-Afghanistan</td>\n      <td>3.952303e+04</td>\n      <td>91145.9</td>\n      <td>84579</td>\n      <td>5476</td>\n      <td>3.952303e+04</td>\n      <td>3.952303e+04</td>\n      <td>3.952303e+04</td>\n    </tr>\n    <tr>\n      <th>...</th>\n      <td>...</td>\n      <td>...</td>\n      <td>...</td>\n      <td>...</td>\n      <td>...</td>\n      <td>...</td>\n      <td>...</td>\n      <td>...</td>\n      <td>...</td>\n      <td>...</td>\n      <td>...</td>\n      <td>...</td>\n      <td>...</td>\n      <td>...</td>\n    </tr>\n    <tr>\n      <th>2935</th>\n      <td>2020-07-10</td>\n      <td>World</td>\n      <td>1.22463e+07</td>\n      <td>1.191674e+07</td>\n      <td>1.19005e+07</td>\n      <td>1.22452e+07</td>\n      <td>2020-07-10-World</td>\n      <td>1.310346e+07</td>\n      <td>1.08597e+11</td>\n      <td>1.19548e+11</td>\n      <td>1.0816e+06</td>\n      <td>1.310346e+07</td>\n      <td>1.310346e+07</td>\n      <td>1.310346e+07</td>\n    </tr>\n    <tr>\n      <th>2936</th>\n      <td>2020-07-11</td>\n      <td>World</td>\n      <td>1.24763e+07</td>\n      <td>1.208147e+07</td>\n      <td>1.20621e+07</td>\n      <td>1.24623e+07</td>\n      <td>2020-07-11-World</td>\n      <td>1.333688e+07</td>\n      <td>1.55916e+11</td>\n      <td>1.71564e+11</td>\n      <td>1.98162e+08</td>\n      <td>1.333688e+07</td>\n      <td>1.333688e+07</td>\n      <td>1.333688e+07</td>\n    </tr>\n    <tr>\n      <th>2937</th>\n      <td>2020-07-12</td>\n      <td>World</td>\n      <td>1.26945e+07</td>\n      <td>1.224620e+07</td>\n      <td>1.22235e+07</td>\n      <td>1.26705e+07</td>\n      <td>2020-07-12-World</td>\n      <td>1.356634e+07</td>\n      <td>2.00984e+11</td>\n      <td>2.21891e+11</td>\n      <td>5.78114e+08</td>\n      <td>1.356634e+07</td>\n      <td>1.356634e+07</td>\n      <td>1.356634e+07</td>\n    </tr>\n    <tr>\n      <th>2938</th>\n      <td>2020-07-13</td>\n      <td>World</td>\n      <td>1.28898e+07</td>\n      <td>1.241092e+07</td>\n      <td>1.23845e+07</td>\n      <td>1.28687e+07</td>\n      <td>2020-07-13-World</td>\n      <td>1.380779e+07</td>\n      <td>2.29313e+11</td>\n      <td>2.55312e+11</td>\n      <td>4.4559e+08</td>\n      <td>1.380779e+07</td>\n      <td>1.380779e+07</td>\n      <td>1.380779e+07</td>\n    </tr>\n    <tr>\n      <th>2939</th>\n      <td>2020-07-14</td>\n      <td>World</td>\n      <td>1.30799e+07</td>\n      <td>1.257565e+07</td>\n      <td>1.25453e+07</td>\n      <td>1.30722e+07</td>\n      <td>2020-07-14-World</td>\n      <td>1.408219e+07</td>\n      <td>2.5425e+11</td>\n      <td>2.85801e+11</td>\n      <td>5.94441e+07</td>\n      <td>1.408219e+07</td>\n      <td>1.408219e+07</td>\n      <td>1.408219e+07</td>\n    </tr>\n  </tbody>\n</table>\n<p>2940 rows × 14 columns</p>\n</div>"
     },
     "metadata": {},
     "execution_count": 128
    }
   ],
   "source": [
    "newCombed_country['mergekey'] = newCombed_country['date'].dt.strftime(\"%Y-%m-%d\") + \"-\" + newCombed_country['country']\n",
    "newCombed_country = newCombed_country.merge(LSTM_country, right_on='mergekey', left_on='mergekey')\n",
    "#newCombed_country.to_csv(\"test.csv\")\n",
    "newCombed_country"
   ]
  },
  {
   "cell_type": "code",
   "execution_count": null,
   "metadata": {},
   "outputs": [],
   "source": []
  }
 ]
}